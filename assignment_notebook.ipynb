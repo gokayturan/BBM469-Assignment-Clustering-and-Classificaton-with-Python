{
 "cells": [
  {
   "cell_type": "markdown",
   "metadata": {
    "id": "hEQ1ErpCpGL8"
   },
   "source": [
    "# Assignment : Clustering and Classificaton with Python\n",
    "\n",
    "#### Gökay Berkem Turan\n",
    "\n"
   ]
  },
  {
   "cell_type": "markdown",
   "metadata": {
    "id": "8YmERLjspGMH"
   },
   "source": [
    "## Table of Content\n",
    "\n",
    "[Purpose](#purpose)   \n",
    "[Data Understanding](#data_understanding)   \n",
    "[Data Preparation](#data_preparation)   \n",
    "[Modeling for Clustering](#clusteringmodel)  \n",
    "[Clustering results](#clustering)    \n",
    "[Modeling for Classification](#classificationmodel)  \n",
    "[Evaluation](#evaluation)  \n",
    "[References](#references)   \n"
   ]
  },
  {
   "cell_type": "markdown",
   "metadata": {
    "id": "clDpC-2kpGMR"
   },
   "source": [
    "## Purpose <a class=\"anchor\" id=\"purpose\"></a>"
   ]
  },
  {
   "cell_type": "markdown",
   "metadata": {
    "id": "14HkwUOrMEPS"
   },
   "source": [
    "In this assignment, we will try to detect haricot bean species,using machine learning methods from the features created by digitizing the images of the various haricot beans. In this assignment, we will use clustering and classification methods with original and normalized data then we will comment on the results. While doing these we will also deal with missing values if exist and we will make feature selection."
   ]
  },
  {
   "cell_type": "markdown",
   "metadata": {
    "id": "JuZmF4SvpGMc"
   },
   "source": [
    "## Data Understanding<a class=\"anchor\" id=\"data_understanding\"></a>"
   ]
  },
  {
   "cell_type": "code",
   "execution_count": 1,
   "metadata": {
    "colab": {
     "base_uri": "https://localhost:8080/"
    },
    "executionInfo": {
     "elapsed": 17074,
     "status": "ok",
     "timestamp": 1618432898895,
     "user": {
      "displayName": "Gökay Turan",
      "photoUrl": "",
      "userId": "03034405363589506154"
     },
     "user_tz": -180
    },
    "id": "F_Aj9cTkY_yT",
    "outputId": "3591e0d6-7c0c-44f7-e9c9-9055d30471ce"
   },
   "outputs": [
    {
     "name": "stdout",
     "output_type": "stream",
     "text": [
      "Mounted at /content/drive\n"
     ]
    }
   ],
   "source": [
    "from google.colab import drive\n",
    "drive.mount('/content/drive')"
   ]
  },
  {
   "cell_type": "code",
   "execution_count": 2,
   "metadata": {
    "executionInfo": {
     "elapsed": 1837,
     "status": "ok",
     "timestamp": 1618432903870,
     "user": {
      "displayName": "Gökay Turan",
      "photoUrl": "",
      "userId": "03034405363589506154"
     },
     "user_tz": -180
    },
    "id": "kJENPg1KpGMd"
   },
   "outputs": [],
   "source": [
    "import pandas as pd\n",
    "import matplotlib.pyplot as plt\n",
    "import numpy as np\n",
    "import seaborn as sns\n",
    "from sklearn.metrics import confusion_matrix\n",
    "from sklearn.metrics import classification_report\n",
    "from sklearn.feature_selection import SelectKBest\n",
    "from sklearn.feature_selection import chi2\n",
    "from sklearn.cluster import KMeans\n",
    "from sklearn.model_selection import train_test_split\n",
    "from sklearn.neighbors import KNeighborsClassifier"
   ]
  },
  {
   "cell_type": "markdown",
   "metadata": {
    "id": "RoZ1M_jlLg71"
   },
   "source": [
    "By using the following head and tail functions, we can get general information about dataset."
   ]
  },
  {
   "cell_type": "code",
   "execution_count": 3,
   "metadata": {
    "colab": {
     "base_uri": "https://localhost:8080/",
     "height": 224
    },
    "executionInfo": {
     "elapsed": 1094,
     "status": "ok",
     "timestamp": 1618432906830,
     "user": {
      "displayName": "Gökay Turan",
      "photoUrl": "",
      "userId": "03034405363589506154"
     },
     "user_tz": -180
    },
    "id": "balshb5SYwtv",
    "outputId": "79d0ccab-9560-4bd1-b09a-1d80526fc609"
   },
   "outputs": [
    {
     "data": {
      "text/html": [
       "<div>\n",
       "<style scoped>\n",
       "    .dataframe tbody tr th:only-of-type {\n",
       "        vertical-align: middle;\n",
       "    }\n",
       "\n",
       "    .dataframe tbody tr th {\n",
       "        vertical-align: top;\n",
       "    }\n",
       "\n",
       "    .dataframe thead th {\n",
       "        text-align: right;\n",
       "    }\n",
       "</style>\n",
       "<table border=\"1\" class=\"dataframe\">\n",
       "  <thead>\n",
       "    <tr style=\"text-align: right;\">\n",
       "      <th></th>\n",
       "      <th>Area</th>\n",
       "      <th>Perimeter</th>\n",
       "      <th>MajorAxisLength</th>\n",
       "      <th>MinorAxisLength</th>\n",
       "      <th>AspectRation</th>\n",
       "      <th>Eccentricity</th>\n",
       "      <th>ConvexArea</th>\n",
       "      <th>EquivDiameter</th>\n",
       "      <th>Extent</th>\n",
       "      <th>Solidity</th>\n",
       "      <th>roundness</th>\n",
       "      <th>Compactness</th>\n",
       "      <th>ShapeFactor1</th>\n",
       "      <th>ShapeFactor2</th>\n",
       "      <th>ShapeFactor3</th>\n",
       "      <th>ShapeFactor4</th>\n",
       "      <th>Class</th>\n",
       "    </tr>\n",
       "  </thead>\n",
       "  <tbody>\n",
       "    <tr>\n",
       "      <th>0</th>\n",
       "      <td>28395</td>\n",
       "      <td>610.291</td>\n",
       "      <td>208.178117</td>\n",
       "      <td>173.888747</td>\n",
       "      <td>1.197191</td>\n",
       "      <td>0.549812</td>\n",
       "      <td>28715</td>\n",
       "      <td>190.141097</td>\n",
       "      <td>0.763923</td>\n",
       "      <td>0.988856</td>\n",
       "      <td>0.958027</td>\n",
       "      <td>0.913358</td>\n",
       "      <td>0.007332</td>\n",
       "      <td>0.003147</td>\n",
       "      <td>0.834222</td>\n",
       "      <td>0.998724</td>\n",
       "      <td>SEKER</td>\n",
       "    </tr>\n",
       "    <tr>\n",
       "      <th>1</th>\n",
       "      <td>28734</td>\n",
       "      <td>638.018</td>\n",
       "      <td>200.524796</td>\n",
       "      <td>182.734419</td>\n",
       "      <td>1.097356</td>\n",
       "      <td>0.411785</td>\n",
       "      <td>29172</td>\n",
       "      <td>191.272751</td>\n",
       "      <td>0.783968</td>\n",
       "      <td>0.984986</td>\n",
       "      <td>0.887034</td>\n",
       "      <td>0.953861</td>\n",
       "      <td>0.006979</td>\n",
       "      <td>0.003564</td>\n",
       "      <td>0.909851</td>\n",
       "      <td>0.998430</td>\n",
       "      <td>SEKER</td>\n",
       "    </tr>\n",
       "    <tr>\n",
       "      <th>2</th>\n",
       "      <td>29380</td>\n",
       "      <td>624.110</td>\n",
       "      <td>212.826130</td>\n",
       "      <td>175.931143</td>\n",
       "      <td>1.209713</td>\n",
       "      <td>0.562727</td>\n",
       "      <td>29690</td>\n",
       "      <td>193.410904</td>\n",
       "      <td>0.778113</td>\n",
       "      <td>0.989559</td>\n",
       "      <td>0.947849</td>\n",
       "      <td>0.908774</td>\n",
       "      <td>0.007244</td>\n",
       "      <td>0.003048</td>\n",
       "      <td>0.825871</td>\n",
       "      <td>0.999066</td>\n",
       "      <td>SEKER</td>\n",
       "    </tr>\n",
       "    <tr>\n",
       "      <th>3</th>\n",
       "      <td>30008</td>\n",
       "      <td>645.884</td>\n",
       "      <td>210.557999</td>\n",
       "      <td>182.516516</td>\n",
       "      <td>1.153638</td>\n",
       "      <td>0.498616</td>\n",
       "      <td>30724</td>\n",
       "      <td>195.467062</td>\n",
       "      <td>0.782681</td>\n",
       "      <td>0.976696</td>\n",
       "      <td>0.903936</td>\n",
       "      <td>0.928329</td>\n",
       "      <td>0.007017</td>\n",
       "      <td>0.003215</td>\n",
       "      <td>0.861794</td>\n",
       "      <td>0.994199</td>\n",
       "      <td>SEKER</td>\n",
       "    </tr>\n",
       "    <tr>\n",
       "      <th>4</th>\n",
       "      <td>30140</td>\n",
       "      <td>620.134</td>\n",
       "      <td>201.847882</td>\n",
       "      <td>190.279279</td>\n",
       "      <td>1.060798</td>\n",
       "      <td>0.333680</td>\n",
       "      <td>30417</td>\n",
       "      <td>195.896503</td>\n",
       "      <td>0.773098</td>\n",
       "      <td>0.990893</td>\n",
       "      <td>0.984877</td>\n",
       "      <td>0.970516</td>\n",
       "      <td>0.006697</td>\n",
       "      <td>0.003665</td>\n",
       "      <td>0.941900</td>\n",
       "      <td>0.999166</td>\n",
       "      <td>SEKER</td>\n",
       "    </tr>\n",
       "  </tbody>\n",
       "</table>\n",
       "</div>"
      ],
      "text/plain": [
       "    Area  Perimeter  MajorAxisLength  ...  ShapeFactor3  ShapeFactor4  Class\n",
       "0  28395    610.291       208.178117  ...      0.834222      0.998724  SEKER\n",
       "1  28734    638.018       200.524796  ...      0.909851      0.998430  SEKER\n",
       "2  29380    624.110       212.826130  ...      0.825871      0.999066  SEKER\n",
       "3  30008    645.884       210.557999  ...      0.861794      0.994199  SEKER\n",
       "4  30140    620.134       201.847882  ...      0.941900      0.999166  SEKER\n",
       "\n",
       "[5 rows x 17 columns]"
      ]
     },
     "execution_count": 3,
     "metadata": {
      "tags": []
     },
     "output_type": "execute_result"
    }
   ],
   "source": [
    "rawOriginalData = pd.read_csv(\"/content/drive/MyDrive/BBM469-Assignment2/data.csv\") #path of the csv file\n",
    "rawOriginalData.head()"
   ]
  },
  {
   "cell_type": "code",
   "execution_count": 4,
   "metadata": {
    "colab": {
     "base_uri": "https://localhost:8080/",
     "height": 224
    },
    "executionInfo": {
     "elapsed": 686,
     "status": "ok",
     "timestamp": 1618432909191,
     "user": {
      "displayName": "Gökay Turan",
      "photoUrl": "",
      "userId": "03034405363589506154"
     },
     "user_tz": -180
    },
    "id": "cAWuk5H_Y6T_",
    "outputId": "1bf43b79-f5a2-4fac-8009-df1c24349c8e"
   },
   "outputs": [
    {
     "data": {
      "text/html": [
       "<div>\n",
       "<style scoped>\n",
       "    .dataframe tbody tr th:only-of-type {\n",
       "        vertical-align: middle;\n",
       "    }\n",
       "\n",
       "    .dataframe tbody tr th {\n",
       "        vertical-align: top;\n",
       "    }\n",
       "\n",
       "    .dataframe thead th {\n",
       "        text-align: right;\n",
       "    }\n",
       "</style>\n",
       "<table border=\"1\" class=\"dataframe\">\n",
       "  <thead>\n",
       "    <tr style=\"text-align: right;\">\n",
       "      <th></th>\n",
       "      <th>Area</th>\n",
       "      <th>Perimeter</th>\n",
       "      <th>MajorAxisLength</th>\n",
       "      <th>MinorAxisLength</th>\n",
       "      <th>AspectRation</th>\n",
       "      <th>Eccentricity</th>\n",
       "      <th>ConvexArea</th>\n",
       "      <th>EquivDiameter</th>\n",
       "      <th>Extent</th>\n",
       "      <th>Solidity</th>\n",
       "      <th>roundness</th>\n",
       "      <th>Compactness</th>\n",
       "      <th>ShapeFactor1</th>\n",
       "      <th>ShapeFactor2</th>\n",
       "      <th>ShapeFactor3</th>\n",
       "      <th>ShapeFactor4</th>\n",
       "      <th>Class</th>\n",
       "    </tr>\n",
       "  </thead>\n",
       "  <tbody>\n",
       "    <tr>\n",
       "      <th>13606</th>\n",
       "      <td>42097</td>\n",
       "      <td>759.696</td>\n",
       "      <td>288.721612</td>\n",
       "      <td>185.944705</td>\n",
       "      <td>1.552728</td>\n",
       "      <td>0.765002</td>\n",
       "      <td>42508</td>\n",
       "      <td>231.515799</td>\n",
       "      <td>0.714574</td>\n",
       "      <td>0.990331</td>\n",
       "      <td>0.916603</td>\n",
       "      <td>0.801865</td>\n",
       "      <td>0.006858</td>\n",
       "      <td>0.001749</td>\n",
       "      <td>0.642988</td>\n",
       "      <td>0.998385</td>\n",
       "      <td>DERMASON</td>\n",
       "    </tr>\n",
       "    <tr>\n",
       "      <th>13607</th>\n",
       "      <td>42101</td>\n",
       "      <td>757.499</td>\n",
       "      <td>281.576392</td>\n",
       "      <td>190.713136</td>\n",
       "      <td>1.476439</td>\n",
       "      <td>0.735702</td>\n",
       "      <td>42494</td>\n",
       "      <td>231.526798</td>\n",
       "      <td>0.799943</td>\n",
       "      <td>0.990752</td>\n",
       "      <td>0.922015</td>\n",
       "      <td>0.822252</td>\n",
       "      <td>0.006688</td>\n",
       "      <td>0.001886</td>\n",
       "      <td>0.676099</td>\n",
       "      <td>0.998219</td>\n",
       "      <td>DERMASON</td>\n",
       "    </tr>\n",
       "    <tr>\n",
       "      <th>13608</th>\n",
       "      <td>42139</td>\n",
       "      <td>759.321</td>\n",
       "      <td>281.539928</td>\n",
       "      <td>191.187979</td>\n",
       "      <td>1.472582</td>\n",
       "      <td>0.734065</td>\n",
       "      <td>42569</td>\n",
       "      <td>231.631261</td>\n",
       "      <td>0.729932</td>\n",
       "      <td>0.989899</td>\n",
       "      <td>0.918424</td>\n",
       "      <td>0.822730</td>\n",
       "      <td>0.006681</td>\n",
       "      <td>0.001888</td>\n",
       "      <td>0.676884</td>\n",
       "      <td>0.996767</td>\n",
       "      <td>DERMASON</td>\n",
       "    </tr>\n",
       "    <tr>\n",
       "      <th>13609</th>\n",
       "      <td>42147</td>\n",
       "      <td>763.779</td>\n",
       "      <td>283.382636</td>\n",
       "      <td>190.275731</td>\n",
       "      <td>1.489326</td>\n",
       "      <td>0.741055</td>\n",
       "      <td>42667</td>\n",
       "      <td>231.653248</td>\n",
       "      <td>0.705389</td>\n",
       "      <td>0.987813</td>\n",
       "      <td>0.907906</td>\n",
       "      <td>0.817457</td>\n",
       "      <td>0.006724</td>\n",
       "      <td>0.001852</td>\n",
       "      <td>0.668237</td>\n",
       "      <td>0.995222</td>\n",
       "      <td>DERMASON</td>\n",
       "    </tr>\n",
       "    <tr>\n",
       "      <th>13610</th>\n",
       "      <td>42159</td>\n",
       "      <td>772.237</td>\n",
       "      <td>295.142741</td>\n",
       "      <td>182.204716</td>\n",
       "      <td>1.619841</td>\n",
       "      <td>0.786693</td>\n",
       "      <td>42600</td>\n",
       "      <td>231.686223</td>\n",
       "      <td>0.788962</td>\n",
       "      <td>0.989648</td>\n",
       "      <td>0.888380</td>\n",
       "      <td>0.784997</td>\n",
       "      <td>0.007001</td>\n",
       "      <td>0.001640</td>\n",
       "      <td>0.616221</td>\n",
       "      <td>0.998180</td>\n",
       "      <td>DERMASON</td>\n",
       "    </tr>\n",
       "  </tbody>\n",
       "</table>\n",
       "</div>"
      ],
      "text/plain": [
       "        Area  Perimeter  MajorAxisLength  ...  ShapeFactor3  ShapeFactor4     Class\n",
       "13606  42097    759.696       288.721612  ...      0.642988      0.998385  DERMASON\n",
       "13607  42101    757.499       281.576392  ...      0.676099      0.998219  DERMASON\n",
       "13608  42139    759.321       281.539928  ...      0.676884      0.996767  DERMASON\n",
       "13609  42147    763.779       283.382636  ...      0.668237      0.995222  DERMASON\n",
       "13610  42159    772.237       295.142741  ...      0.616221      0.998180  DERMASON\n",
       "\n",
       "[5 rows x 17 columns]"
      ]
     },
     "execution_count": 4,
     "metadata": {
      "tags": []
     },
     "output_type": "execute_result"
    }
   ],
   "source": [
    "rawOriginalData.tail()"
   ]
  },
  {
   "cell_type": "markdown",
   "metadata": {
    "id": "Xot0ZmvtJtMn"
   },
   "source": [
    "We can also get column names of dataset using following statement."
   ]
  },
  {
   "cell_type": "code",
   "execution_count": 5,
   "metadata": {
    "colab": {
     "base_uri": "https://localhost:8080/"
    },
    "executionInfo": {
     "elapsed": 1003,
     "status": "ok",
     "timestamp": 1618432912123,
     "user": {
      "displayName": "Gökay Turan",
      "photoUrl": "",
      "userId": "03034405363589506154"
     },
     "user_tz": -180
    },
    "id": "liBcCxmWriBa",
    "outputId": "24257062-4b99-45d3-db62-9d6a01ba28a8"
   },
   "outputs": [
    {
     "data": {
      "text/plain": [
       "Index(['Area', 'Perimeter', 'MajorAxisLength', 'MinorAxisLength',\n",
       "       'AspectRation', 'Eccentricity', 'ConvexArea', 'EquivDiameter', 'Extent',\n",
       "       'Solidity', 'roundness', 'Compactness', 'ShapeFactor1', 'ShapeFactor2',\n",
       "       'ShapeFactor3', 'ShapeFactor4', 'Class'],\n",
       "      dtype='object')"
      ]
     },
     "execution_count": 5,
     "metadata": {
      "tags": []
     },
     "output_type": "execute_result"
    }
   ],
   "source": [
    "rawOriginalData.columns"
   ]
  },
  {
   "cell_type": "markdown",
   "metadata": {
    "id": "8LIt_fJNNCWq"
   },
   "source": [
    "Our dataset consists of 13611 rows and 17 columns.Since we know that one of them is the target variable( 'Class' ), we can understand that the others are features that may affect the target variable."
   ]
  },
  {
   "cell_type": "code",
   "execution_count": 6,
   "metadata": {
    "colab": {
     "base_uri": "https://localhost:8080/"
    },
    "executionInfo": {
     "elapsed": 578,
     "status": "ok",
     "timestamp": 1618432916528,
     "user": {
      "displayName": "Gökay Turan",
      "photoUrl": "",
      "userId": "03034405363589506154"
     },
     "user_tz": -180
    },
    "id": "2JHFynsAjE7B",
    "outputId": "5af7f8d4-7ec7-41fc-cfca-05eea10f5ef5"
   },
   "outputs": [
    {
     "name": "stdout",
     "output_type": "stream",
     "text": [
      "(13611, 17)\n"
     ]
    }
   ],
   "source": [
    "print(rawOriginalData.shape)"
   ]
  },
  {
   "cell_type": "markdown",
   "metadata": {
    "id": "HhK3E7DoRGIU"
   },
   "source": [
    "---\n",
    "We can get detailed and statistical information about dataset. We can use info \n",
    "and describe function to get detailed and statistical information.\n",
    "According to the outputs of these functions we can say that:\n",
    "*   There are 13611 entries.\n",
    "*   There are 14 variables of type float,2 variables of type int and 1 variable of type object.\n",
    "*   Dataset does not contain any null variable, also there is no variable that has '0' value. All variables are non-null.\n",
    "*   We can get minimum, maximum and mean values and other statistical infomations from the outputs below.\n"
   ]
  },
  {
   "cell_type": "code",
   "execution_count": 7,
   "metadata": {
    "colab": {
     "base_uri": "https://localhost:8080/"
    },
    "executionInfo": {
     "elapsed": 594,
     "status": "ok",
     "timestamp": 1618432918939,
     "user": {
      "displayName": "Gökay Turan",
      "photoUrl": "",
      "userId": "03034405363589506154"
     },
     "user_tz": -180
    },
    "id": "gSVhVQfBpGMk",
    "outputId": "65435376-f194-4c5a-904b-a5a2fb180e28"
   },
   "outputs": [
    {
     "name": "stdout",
     "output_type": "stream",
     "text": [
      "<class 'pandas.core.frame.DataFrame'>\n",
      "RangeIndex: 13611 entries, 0 to 13610\n",
      "Data columns (total 17 columns):\n",
      " #   Column           Non-Null Count  Dtype  \n",
      "---  ------           --------------  -----  \n",
      " 0   Area             13611 non-null  int64  \n",
      " 1   Perimeter        13611 non-null  float64\n",
      " 2   MajorAxisLength  13611 non-null  float64\n",
      " 3   MinorAxisLength  13611 non-null  float64\n",
      " 4   AspectRation     13611 non-null  float64\n",
      " 5   Eccentricity     13611 non-null  float64\n",
      " 6   ConvexArea       13611 non-null  int64  \n",
      " 7   EquivDiameter    13611 non-null  float64\n",
      " 8   Extent           13611 non-null  float64\n",
      " 9   Solidity         13611 non-null  float64\n",
      " 10  roundness        13611 non-null  float64\n",
      " 11  Compactness      13611 non-null  float64\n",
      " 12  ShapeFactor1     13611 non-null  float64\n",
      " 13  ShapeFactor2     13611 non-null  float64\n",
      " 14  ShapeFactor3     13611 non-null  float64\n",
      " 15  ShapeFactor4     13611 non-null  float64\n",
      " 16  Class            13611 non-null  object \n",
      "dtypes: float64(14), int64(2), object(1)\n",
      "memory usage: 1.8+ MB\n"
     ]
    }
   ],
   "source": [
    "rawOriginalData.info()"
   ]
  },
  {
   "cell_type": "code",
   "execution_count": 8,
   "metadata": {
    "colab": {
     "base_uri": "https://localhost:8080/",
     "height": 410
    },
    "executionInfo": {
     "elapsed": 607,
     "status": "ok",
     "timestamp": 1618432922351,
     "user": {
      "displayName": "Gökay Turan",
      "photoUrl": "",
      "userId": "03034405363589506154"
     },
     "user_tz": -180
    },
    "id": "pOrLskiGlH2F",
    "outputId": "fd64551c-2d91-41ba-c3a3-80029694fb90"
   },
   "outputs": [
    {
     "data": {
      "text/html": [
       "<div>\n",
       "<style scoped>\n",
       "    .dataframe tbody tr th:only-of-type {\n",
       "        vertical-align: middle;\n",
       "    }\n",
       "\n",
       "    .dataframe tbody tr th {\n",
       "        vertical-align: top;\n",
       "    }\n",
       "\n",
       "    .dataframe thead th {\n",
       "        text-align: right;\n",
       "    }\n",
       "</style>\n",
       "<table border=\"1\" class=\"dataframe\">\n",
       "  <thead>\n",
       "    <tr style=\"text-align: right;\">\n",
       "      <th></th>\n",
       "      <th>Area</th>\n",
       "      <th>Perimeter</th>\n",
       "      <th>MajorAxisLength</th>\n",
       "      <th>MinorAxisLength</th>\n",
       "      <th>AspectRation</th>\n",
       "      <th>Eccentricity</th>\n",
       "      <th>ConvexArea</th>\n",
       "      <th>EquivDiameter</th>\n",
       "      <th>Extent</th>\n",
       "      <th>Solidity</th>\n",
       "      <th>roundness</th>\n",
       "      <th>Compactness</th>\n",
       "      <th>ShapeFactor1</th>\n",
       "      <th>ShapeFactor2</th>\n",
       "      <th>ShapeFactor3</th>\n",
       "      <th>ShapeFactor4</th>\n",
       "      <th>Class</th>\n",
       "    </tr>\n",
       "  </thead>\n",
       "  <tbody>\n",
       "    <tr>\n",
       "      <th>count</th>\n",
       "      <td>13611.000000</td>\n",
       "      <td>13611.000000</td>\n",
       "      <td>13611.000000</td>\n",
       "      <td>13611.000000</td>\n",
       "      <td>13611.000000</td>\n",
       "      <td>13611.000000</td>\n",
       "      <td>13611.000000</td>\n",
       "      <td>13611.000000</td>\n",
       "      <td>13611.000000</td>\n",
       "      <td>13611.000000</td>\n",
       "      <td>13611.000000</td>\n",
       "      <td>13611.000000</td>\n",
       "      <td>13611.000000</td>\n",
       "      <td>13611.000000</td>\n",
       "      <td>13611.000000</td>\n",
       "      <td>13611.000000</td>\n",
       "      <td>13611</td>\n",
       "    </tr>\n",
       "    <tr>\n",
       "      <th>unique</th>\n",
       "      <td>NaN</td>\n",
       "      <td>NaN</td>\n",
       "      <td>NaN</td>\n",
       "      <td>NaN</td>\n",
       "      <td>NaN</td>\n",
       "      <td>NaN</td>\n",
       "      <td>NaN</td>\n",
       "      <td>NaN</td>\n",
       "      <td>NaN</td>\n",
       "      <td>NaN</td>\n",
       "      <td>NaN</td>\n",
       "      <td>NaN</td>\n",
       "      <td>NaN</td>\n",
       "      <td>NaN</td>\n",
       "      <td>NaN</td>\n",
       "      <td>NaN</td>\n",
       "      <td>7</td>\n",
       "    </tr>\n",
       "    <tr>\n",
       "      <th>top</th>\n",
       "      <td>NaN</td>\n",
       "      <td>NaN</td>\n",
       "      <td>NaN</td>\n",
       "      <td>NaN</td>\n",
       "      <td>NaN</td>\n",
       "      <td>NaN</td>\n",
       "      <td>NaN</td>\n",
       "      <td>NaN</td>\n",
       "      <td>NaN</td>\n",
       "      <td>NaN</td>\n",
       "      <td>NaN</td>\n",
       "      <td>NaN</td>\n",
       "      <td>NaN</td>\n",
       "      <td>NaN</td>\n",
       "      <td>NaN</td>\n",
       "      <td>NaN</td>\n",
       "      <td>DERMASON</td>\n",
       "    </tr>\n",
       "    <tr>\n",
       "      <th>freq</th>\n",
       "      <td>NaN</td>\n",
       "      <td>NaN</td>\n",
       "      <td>NaN</td>\n",
       "      <td>NaN</td>\n",
       "      <td>NaN</td>\n",
       "      <td>NaN</td>\n",
       "      <td>NaN</td>\n",
       "      <td>NaN</td>\n",
       "      <td>NaN</td>\n",
       "      <td>NaN</td>\n",
       "      <td>NaN</td>\n",
       "      <td>NaN</td>\n",
       "      <td>NaN</td>\n",
       "      <td>NaN</td>\n",
       "      <td>NaN</td>\n",
       "      <td>NaN</td>\n",
       "      <td>3546</td>\n",
       "    </tr>\n",
       "    <tr>\n",
       "      <th>mean</th>\n",
       "      <td>53048.284549</td>\n",
       "      <td>855.283459</td>\n",
       "      <td>320.141867</td>\n",
       "      <td>202.270714</td>\n",
       "      <td>1.583242</td>\n",
       "      <td>0.750895</td>\n",
       "      <td>53768.200206</td>\n",
       "      <td>253.064220</td>\n",
       "      <td>0.749733</td>\n",
       "      <td>0.987143</td>\n",
       "      <td>0.873282</td>\n",
       "      <td>0.799864</td>\n",
       "      <td>0.006564</td>\n",
       "      <td>0.001716</td>\n",
       "      <td>0.643590</td>\n",
       "      <td>0.995063</td>\n",
       "      <td>NaN</td>\n",
       "    </tr>\n",
       "    <tr>\n",
       "      <th>std</th>\n",
       "      <td>29324.095717</td>\n",
       "      <td>214.289696</td>\n",
       "      <td>85.694186</td>\n",
       "      <td>44.970091</td>\n",
       "      <td>0.246678</td>\n",
       "      <td>0.092002</td>\n",
       "      <td>29774.915817</td>\n",
       "      <td>59.177120</td>\n",
       "      <td>0.049086</td>\n",
       "      <td>0.004660</td>\n",
       "      <td>0.059520</td>\n",
       "      <td>0.061713</td>\n",
       "      <td>0.001128</td>\n",
       "      <td>0.000596</td>\n",
       "      <td>0.098996</td>\n",
       "      <td>0.004366</td>\n",
       "      <td>NaN</td>\n",
       "    </tr>\n",
       "    <tr>\n",
       "      <th>min</th>\n",
       "      <td>20420.000000</td>\n",
       "      <td>524.736000</td>\n",
       "      <td>183.601165</td>\n",
       "      <td>122.512653</td>\n",
       "      <td>1.024868</td>\n",
       "      <td>0.218951</td>\n",
       "      <td>20684.000000</td>\n",
       "      <td>161.243764</td>\n",
       "      <td>0.555315</td>\n",
       "      <td>0.919246</td>\n",
       "      <td>0.489618</td>\n",
       "      <td>0.640577</td>\n",
       "      <td>0.002778</td>\n",
       "      <td>0.000564</td>\n",
       "      <td>0.410339</td>\n",
       "      <td>0.947687</td>\n",
       "      <td>NaN</td>\n",
       "    </tr>\n",
       "    <tr>\n",
       "      <th>25%</th>\n",
       "      <td>36328.000000</td>\n",
       "      <td>703.523500</td>\n",
       "      <td>253.303633</td>\n",
       "      <td>175.848170</td>\n",
       "      <td>1.432307</td>\n",
       "      <td>0.715928</td>\n",
       "      <td>36714.500000</td>\n",
       "      <td>215.068003</td>\n",
       "      <td>0.718634</td>\n",
       "      <td>0.985670</td>\n",
       "      <td>0.832096</td>\n",
       "      <td>0.762469</td>\n",
       "      <td>0.005900</td>\n",
       "      <td>0.001154</td>\n",
       "      <td>0.581359</td>\n",
       "      <td>0.993703</td>\n",
       "      <td>NaN</td>\n",
       "    </tr>\n",
       "    <tr>\n",
       "      <th>50%</th>\n",
       "      <td>44652.000000</td>\n",
       "      <td>794.941000</td>\n",
       "      <td>296.883367</td>\n",
       "      <td>192.431733</td>\n",
       "      <td>1.551124</td>\n",
       "      <td>0.764441</td>\n",
       "      <td>45178.000000</td>\n",
       "      <td>238.438026</td>\n",
       "      <td>0.759859</td>\n",
       "      <td>0.988283</td>\n",
       "      <td>0.883157</td>\n",
       "      <td>0.801277</td>\n",
       "      <td>0.006645</td>\n",
       "      <td>0.001694</td>\n",
       "      <td>0.642044</td>\n",
       "      <td>0.996386</td>\n",
       "      <td>NaN</td>\n",
       "    </tr>\n",
       "    <tr>\n",
       "      <th>75%</th>\n",
       "      <td>61332.000000</td>\n",
       "      <td>977.213000</td>\n",
       "      <td>376.495012</td>\n",
       "      <td>217.031741</td>\n",
       "      <td>1.707109</td>\n",
       "      <td>0.810466</td>\n",
       "      <td>62294.000000</td>\n",
       "      <td>279.446467</td>\n",
       "      <td>0.786851</td>\n",
       "      <td>0.990013</td>\n",
       "      <td>0.916869</td>\n",
       "      <td>0.834270</td>\n",
       "      <td>0.007271</td>\n",
       "      <td>0.002170</td>\n",
       "      <td>0.696006</td>\n",
       "      <td>0.997883</td>\n",
       "      <td>NaN</td>\n",
       "    </tr>\n",
       "    <tr>\n",
       "      <th>max</th>\n",
       "      <td>254616.000000</td>\n",
       "      <td>1985.370000</td>\n",
       "      <td>738.860154</td>\n",
       "      <td>460.198497</td>\n",
       "      <td>2.430306</td>\n",
       "      <td>0.911423</td>\n",
       "      <td>263261.000000</td>\n",
       "      <td>569.374358</td>\n",
       "      <td>0.866195</td>\n",
       "      <td>0.994677</td>\n",
       "      <td>0.990685</td>\n",
       "      <td>0.987303</td>\n",
       "      <td>0.010451</td>\n",
       "      <td>0.003665</td>\n",
       "      <td>0.974767</td>\n",
       "      <td>0.999733</td>\n",
       "      <td>NaN</td>\n",
       "    </tr>\n",
       "  </tbody>\n",
       "</table>\n",
       "</div>"
      ],
      "text/plain": [
       "                 Area     Perimeter  ...  ShapeFactor4     Class\n",
       "count    13611.000000  13611.000000  ...  13611.000000     13611\n",
       "unique            NaN           NaN  ...           NaN         7\n",
       "top               NaN           NaN  ...           NaN  DERMASON\n",
       "freq              NaN           NaN  ...           NaN      3546\n",
       "mean     53048.284549    855.283459  ...      0.995063       NaN\n",
       "std      29324.095717    214.289696  ...      0.004366       NaN\n",
       "min      20420.000000    524.736000  ...      0.947687       NaN\n",
       "25%      36328.000000    703.523500  ...      0.993703       NaN\n",
       "50%      44652.000000    794.941000  ...      0.996386       NaN\n",
       "75%      61332.000000    977.213000  ...      0.997883       NaN\n",
       "max     254616.000000   1985.370000  ...      0.999733       NaN\n",
       "\n",
       "[11 rows x 17 columns]"
      ]
     },
     "execution_count": 8,
     "metadata": {
      "tags": []
     },
     "output_type": "execute_result"
    }
   ],
   "source": [
    "rawOriginalData.describe(include=\"all\")"
   ]
  },
  {
   "cell_type": "markdown",
   "metadata": {
    "id": "5X2TTjxPQ0nr"
   },
   "source": [
    "We can understand the distribution of 'class' variables by looking at the graph below. As we can understand from the graph below, the most common class in the dataset is 'DERMASON' and the least common in the dataset is 'BOMBAY'."
   ]
  },
  {
   "cell_type": "code",
   "execution_count": 9,
   "metadata": {
    "colab": {
     "base_uri": "https://localhost:8080/",
     "height": 343
    },
    "executionInfo": {
     "elapsed": 1192,
     "status": "ok",
     "timestamp": 1618432927081,
     "user": {
      "displayName": "Gökay Turan",
      "photoUrl": "",
      "userId": "03034405363589506154"
     },
     "user_tz": -180
    },
    "id": "9gWCHAuMrJfQ",
    "outputId": "c532fa0e-f018-43a0-9ed7-f597c5c818b5"
   },
   "outputs": [
    {
     "data": {
      "image/png": "[encoded data removed]",
      "text/plain": [
       "<Figure size 432x288 with 1 Axes>"
      ]
     },
     "metadata": {
      "needs_background": "light",
      "tags": []
     },
     "output_type": "display_data"
    }
   ],
   "source": [
    "rawOriginalData[\"Class\"].value_counts().plot(kind='bar')\n",
    "plt.title('Frequencies of Classes')\n",
    "plt.xlabel('Classes')\n",
    "plt.ylabel('Frequencies')\n",
    "plt.show()"
   ]
  },
  {
   "cell_type": "markdown",
   "metadata": {
    "id": "nqcRgLxhpGMq"
   },
   "source": [
    "## Data Preparation<a class=\"anchor\" id=\"data_preparation\"></a>"
   ]
  },
  {
   "cell_type": "markdown",
   "metadata": {
    "id": "jZGP0GEOFDYm"
   },
   "source": [
    "Since we cannat make feature selection due to target variable is of type string, we need to convert target variable into numeric type.\n",
    "\n",
    "You can see converted version of dataset from the output below.\n"
   ]
  },
  {
   "cell_type": "code",
   "execution_count": 10,
   "metadata": {
    "colab": {
     "base_uri": "https://localhost:8080/",
     "height": 224
    },
    "executionInfo": {
     "elapsed": 611,
     "status": "ok",
     "timestamp": 1618432955499,
     "user": {
      "displayName": "Gökay Turan",
      "photoUrl": "",
      "userId": "03034405363589506154"
     },
     "user_tz": -180
    },
    "id": "3lC9LIyNFVVo",
    "outputId": "adb22bad-d5a7-4d14-ed84-fcbaeb0f6e4e"
   },
   "outputs": [
    {
     "data": {
      "text/html": [
       "<div>\n",
       "<style scoped>\n",
       "    .dataframe tbody tr th:only-of-type {\n",
       "        vertical-align: middle;\n",
       "    }\n",
       "\n",
       "    .dataframe tbody tr th {\n",
       "        vertical-align: top;\n",
       "    }\n",
       "\n",
       "    .dataframe thead th {\n",
       "        text-align: right;\n",
       "    }\n",
       "</style>\n",
       "<table border=\"1\" class=\"dataframe\">\n",
       "  <thead>\n",
       "    <tr style=\"text-align: right;\">\n",
       "      <th></th>\n",
       "      <th>Area</th>\n",
       "      <th>Perimeter</th>\n",
       "      <th>MajorAxisLength</th>\n",
       "      <th>MinorAxisLength</th>\n",
       "      <th>AspectRation</th>\n",
       "      <th>Eccentricity</th>\n",
       "      <th>ConvexArea</th>\n",
       "      <th>EquivDiameter</th>\n",
       "      <th>Extent</th>\n",
       "      <th>Solidity</th>\n",
       "      <th>roundness</th>\n",
       "      <th>Compactness</th>\n",
       "      <th>ShapeFactor1</th>\n",
       "      <th>ShapeFactor2</th>\n",
       "      <th>ShapeFactor3</th>\n",
       "      <th>ShapeFactor4</th>\n",
       "      <th>Class</th>\n",
       "    </tr>\n",
       "  </thead>\n",
       "  <tbody>\n",
       "    <tr>\n",
       "      <th>0</th>\n",
       "      <td>28395</td>\n",
       "      <td>610.291</td>\n",
       "      <td>208.178117</td>\n",
       "      <td>173.888747</td>\n",
       "      <td>1.197191</td>\n",
       "      <td>0.549812</td>\n",
       "      <td>28715</td>\n",
       "      <td>190.141097</td>\n",
       "      <td>0.763923</td>\n",
       "      <td>0.988856</td>\n",
       "      <td>0.958027</td>\n",
       "      <td>0.913358</td>\n",
       "      <td>0.007332</td>\n",
       "      <td>0.003147</td>\n",
       "      <td>0.834222</td>\n",
       "      <td>0.998724</td>\n",
       "      <td>3</td>\n",
       "    </tr>\n",
       "    <tr>\n",
       "      <th>1</th>\n",
       "      <td>28734</td>\n",
       "      <td>638.018</td>\n",
       "      <td>200.524796</td>\n",
       "      <td>182.734419</td>\n",
       "      <td>1.097356</td>\n",
       "      <td>0.411785</td>\n",
       "      <td>29172</td>\n",
       "      <td>191.272751</td>\n",
       "      <td>0.783968</td>\n",
       "      <td>0.984986</td>\n",
       "      <td>0.887034</td>\n",
       "      <td>0.953861</td>\n",
       "      <td>0.006979</td>\n",
       "      <td>0.003564</td>\n",
       "      <td>0.909851</td>\n",
       "      <td>0.998430</td>\n",
       "      <td>3</td>\n",
       "    </tr>\n",
       "    <tr>\n",
       "      <th>2</th>\n",
       "      <td>29380</td>\n",
       "      <td>624.110</td>\n",
       "      <td>212.826130</td>\n",
       "      <td>175.931143</td>\n",
       "      <td>1.209713</td>\n",
       "      <td>0.562727</td>\n",
       "      <td>29690</td>\n",
       "      <td>193.410904</td>\n",
       "      <td>0.778113</td>\n",
       "      <td>0.989559</td>\n",
       "      <td>0.947849</td>\n",
       "      <td>0.908774</td>\n",
       "      <td>0.007244</td>\n",
       "      <td>0.003048</td>\n",
       "      <td>0.825871</td>\n",
       "      <td>0.999066</td>\n",
       "      <td>3</td>\n",
       "    </tr>\n",
       "    <tr>\n",
       "      <th>3</th>\n",
       "      <td>30008</td>\n",
       "      <td>645.884</td>\n",
       "      <td>210.557999</td>\n",
       "      <td>182.516516</td>\n",
       "      <td>1.153638</td>\n",
       "      <td>0.498616</td>\n",
       "      <td>30724</td>\n",
       "      <td>195.467062</td>\n",
       "      <td>0.782681</td>\n",
       "      <td>0.976696</td>\n",
       "      <td>0.903936</td>\n",
       "      <td>0.928329</td>\n",
       "      <td>0.007017</td>\n",
       "      <td>0.003215</td>\n",
       "      <td>0.861794</td>\n",
       "      <td>0.994199</td>\n",
       "      <td>3</td>\n",
       "    </tr>\n",
       "    <tr>\n",
       "      <th>4</th>\n",
       "      <td>30140</td>\n",
       "      <td>620.134</td>\n",
       "      <td>201.847882</td>\n",
       "      <td>190.279279</td>\n",
       "      <td>1.060798</td>\n",
       "      <td>0.333680</td>\n",
       "      <td>30417</td>\n",
       "      <td>195.896503</td>\n",
       "      <td>0.773098</td>\n",
       "      <td>0.990893</td>\n",
       "      <td>0.984877</td>\n",
       "      <td>0.970516</td>\n",
       "      <td>0.006697</td>\n",
       "      <td>0.003665</td>\n",
       "      <td>0.941900</td>\n",
       "      <td>0.999166</td>\n",
       "      <td>3</td>\n",
       "    </tr>\n",
       "  </tbody>\n",
       "</table>\n",
       "</div>"
      ],
      "text/plain": [
       "    Area  Perimeter  MajorAxisLength  ...  ShapeFactor3  ShapeFactor4  Class\n",
       "0  28395    610.291       208.178117  ...      0.834222      0.998724      3\n",
       "1  28734    638.018       200.524796  ...      0.909851      0.998430      3\n",
       "2  29380    624.110       212.826130  ...      0.825871      0.999066      3\n",
       "3  30008    645.884       210.557999  ...      0.861794      0.994199      3\n",
       "4  30140    620.134       201.847882  ...      0.941900      0.999166      3\n",
       "\n",
       "[5 rows x 17 columns]"
      ]
     },
     "execution_count": 10,
     "metadata": {
      "tags": []
     },
     "output_type": "execute_result"
    }
   ],
   "source": [
    "classToNumeric = {'DERMASON': 1, 'SIRA': 2, 'SEKER': 3, 'HOROZ': 4, 'CALI': 5, 'BARBUNYA': 6, 'BOMBAY': 7}\n",
    "rawOriginalData.Class.replace(classToNumeric, inplace= True)\n",
    "rawOriginalData.head()"
   ]
  },
  {
   "cell_type": "markdown",
   "metadata": {
    "id": "g6Jbmj332zZ9"
   },
   "source": [
    "**FEATURE SELECTION**"
   ]
  },
  {
   "cell_type": "markdown",
   "metadata": {
    "id": "SwRra-R26XEf"
   },
   "source": [
    "You can see correlation matrix from the output below. We can use correlation matrix to see correlations between features in the dataset. Correlation matrix help us to find features that have more effect than other features."
   ]
  },
  {
   "cell_type": "code",
   "execution_count": 11,
   "metadata": {
    "colab": {
     "base_uri": "https://localhost:8080/",
     "height": 941
    },
    "executionInfo": {
     "elapsed": 3027,
     "status": "ok",
     "timestamp": 1618432960968,
     "user": {
      "displayName": "Gökay Turan",
      "photoUrl": "",
      "userId": "03034405363589506154"
     },
     "user_tz": -180
    },
    "id": "W4cO_qcSIQaV",
    "outputId": "e93c0921-3f5e-4b97-edea-c8af02669b95"
   },
   "outputs": [
    {
     "data": {
      "image/png": "[encoded data removed]",
      "text/plain": [
       "<Figure size 1440x1080 with 2 Axes>"
      ]
     },
     "metadata": {
      "needs_background": "light",
      "tags": []
     },
     "output_type": "display_data"
    }
   ],
   "source": [
    "correlationMatrix = rawOriginalData.corr()\n",
    "plt.figure(figsize=(20,15))\n",
    "sns.heatmap(correlationMatrix, annot=True,linewidths=.5)\n",
    "plt.show()"
   ]
  },
  {
   "cell_type": "markdown",
   "metadata": {
    "id": "R69NX40o8qvH"
   },
   "source": [
    "For feature selection, I have used SelectKBest method. I have extracted 6 best features and I have used chi2 function as a score function."
   ]
  },
  {
   "cell_type": "code",
   "execution_count": 12,
   "metadata": {
    "colab": {
     "base_uri": "https://localhost:8080/"
    },
    "executionInfo": {
     "elapsed": 613,
     "status": "ok",
     "timestamp": 1618432964775,
     "user": {
      "displayName": "Gökay Turan",
      "photoUrl": "",
      "userId": "03034405363589506154"
     },
     "user_tz": -180
    },
    "id": "PXaCg0CJpGMy",
    "outputId": "94e0abf6-5a7d-4677-e012-1846b997507c"
   },
   "outputs": [
    {
     "name": "stdout",
     "output_type": "stream",
     "text": [
      "        Area  Perimeter  ...  ShapeFactor3  ShapeFactor4\n",
      "0      28395    610.291  ...      0.834222      0.998724\n",
      "1      28734    638.018  ...      0.909851      0.998430\n",
      "2      29380    624.110  ...      0.825871      0.999066\n",
      "3      30008    645.884  ...      0.861794      0.994199\n",
      "4      30140    620.134  ...      0.941900      0.999166\n",
      "...      ...        ...  ...           ...           ...\n",
      "13606  42097    759.696  ...      0.642988      0.998385\n",
      "13607  42101    757.499  ...      0.676099      0.998219\n",
      "13608  42139    759.321  ...      0.676884      0.996767\n",
      "13609  42147    763.779  ...      0.668237      0.995222\n",
      "13610  42159    772.237  ...      0.616221      0.998180\n",
      "\n",
      "[13611 rows x 16 columns]\n",
      "---------------------------------------------------------\n",
      "0        3\n",
      "1        3\n",
      "2        3\n",
      "3        3\n",
      "4        3\n",
      "        ..\n",
      "13606    1\n",
      "13607    1\n",
      "13608    1\n",
      "13609    1\n",
      "13610    1\n",
      "Name: Class, Length: 13611, dtype: int64\n"
     ]
    }
   ],
   "source": [
    "independentFeatures = rawOriginalData.iloc[:,:16]  # Independent Features\n",
    "targetFeature = rawOriginalData.iloc[:,16]    # Target Feature (Class)\n",
    "print(independentFeatures)\n",
    "print(\"---------------------------------------------------------\")\n",
    "print(targetFeature)"
   ]
  },
  {
   "cell_type": "code",
   "execution_count": 13,
   "metadata": {
    "colab": {
     "base_uri": "https://localhost:8080/"
    },
    "executionInfo": {
     "elapsed": 745,
     "status": "ok",
     "timestamp": 1618432968259,
     "user": {
      "displayName": "Gökay Turan",
      "photoUrl": "",
      "userId": "03034405363589506154"
     },
     "user_tz": -180
    },
    "id": "5TqLHY2-30DK",
    "outputId": "fdcc0885-4ed9-4ac4-ac7d-9954b38d1afa"
   },
   "outputs": [
    {
     "name": "stdout",
     "output_type": "stream",
     "text": [
      "          Features        Scores\n",
      "6       ConvexArea  2.081131e+08\n",
      "0             Area  2.046267e+08\n",
      "1        Perimeter  6.683193e+05\n",
      "2  MajorAxisLength  2.825600e+05\n",
      "7    EquivDiameter  1.729274e+05\n",
      "3  MinorAxisLength  1.235873e+05\n"
     ]
    }
   ],
   "source": [
    "bestSixFeatures = SelectKBest(score_func=chi2, k=6)\n",
    "fit = bestSixFeatures.fit(independentFeatures,targetFeature)\n",
    "scores = pd.DataFrame(fit.scores_)\n",
    "features = pd.DataFrame(independentFeatures.columns)\n",
    "featuresAndScores = pd.concat([features,scores],axis=1)\n",
    "featuresAndScores.columns = ['Features','Scores']\n",
    "print(featuresAndScores.nlargest(6,'Scores'))"
   ]
  },
  {
   "cell_type": "markdown",
   "metadata": {
    "id": "dXtyXaV-ubxJ"
   },
   "source": [
    "According to SelectKBest outputs above, most important features are Area, Perimeter, MajorAxisLength, MinorAxisLength, EquivDiameter and ConvexArea but when we look at the correlation matrix above, correlation between features ConvexArea and Area is 1, so we can omit one of them because they have same effect on Class feature. For this reason, I have decided to omit Area feature and I have decided to use 5 most important features. These faetures are ConvexArea, Perimeter, MajorAxisLength, MinorAxisLength and EquivDiameter. "
   ]
  },
  {
   "cell_type": "markdown",
   "metadata": {
    "id": "f7WRmka_wFMa"
   },
   "source": [
    "As you can see from the code cells below, I have created new dataframe named editedOriginalDataset, this dataframe consists of 5 best features. These features are ConvexArea, Perimeter, MajorAxisLength, MinorAxisLength and EquivDiameter."
   ]
  },
  {
   "cell_type": "code",
   "execution_count": 14,
   "metadata": {
    "executionInfo": {
     "elapsed": 579,
     "status": "ok",
     "timestamp": 1618432973018,
     "user": {
      "displayName": "Gökay Turan",
      "photoUrl": "",
      "userId": "03034405363589506154"
     },
     "user_tz": -180
    },
    "id": "UV5erpT-ua_g"
   },
   "outputs": [],
   "source": [
    "editedOriginalDataset = rawOriginalData[['ConvexArea', 'Perimeter','MajorAxisLength', 'MinorAxisLength','EquivDiameter']].copy()"
   ]
  },
  {
   "cell_type": "code",
   "execution_count": 15,
   "metadata": {
    "colab": {
     "base_uri": "https://localhost:8080/",
     "height": 221
    },
    "executionInfo": {
     "elapsed": 591,
     "status": "ok",
     "timestamp": 1618432975180,
     "user": {
      "displayName": "Gökay Turan",
      "photoUrl": "",
      "userId": "03034405363589506154"
     },
     "user_tz": -180
    },
    "id": "mTPDrsX1E4VL",
    "outputId": "a6fd17b1-3a79-40c6-9bbe-b262bb2002ea"
   },
   "outputs": [
    {
     "name": "stdout",
     "output_type": "stream",
     "text": [
      "(13611, 5)\n"
     ]
    },
    {
     "data": {
      "text/html": [
       "<div>\n",
       "<style scoped>\n",
       "    .dataframe tbody tr th:only-of-type {\n",
       "        vertical-align: middle;\n",
       "    }\n",
       "\n",
       "    .dataframe tbody tr th {\n",
       "        vertical-align: top;\n",
       "    }\n",
       "\n",
       "    .dataframe thead th {\n",
       "        text-align: right;\n",
       "    }\n",
       "</style>\n",
       "<table border=\"1\" class=\"dataframe\">\n",
       "  <thead>\n",
       "    <tr style=\"text-align: right;\">\n",
       "      <th></th>\n",
       "      <th>ConvexArea</th>\n",
       "      <th>Perimeter</th>\n",
       "      <th>MajorAxisLength</th>\n",
       "      <th>MinorAxisLength</th>\n",
       "      <th>EquivDiameter</th>\n",
       "    </tr>\n",
       "  </thead>\n",
       "  <tbody>\n",
       "    <tr>\n",
       "      <th>0</th>\n",
       "      <td>28715</td>\n",
       "      <td>610.291</td>\n",
       "      <td>208.178117</td>\n",
       "      <td>173.888747</td>\n",
       "      <td>190.141097</td>\n",
       "    </tr>\n",
       "    <tr>\n",
       "      <th>1</th>\n",
       "      <td>29172</td>\n",
       "      <td>638.018</td>\n",
       "      <td>200.524796</td>\n",
       "      <td>182.734419</td>\n",
       "      <td>191.272751</td>\n",
       "    </tr>\n",
       "    <tr>\n",
       "      <th>2</th>\n",
       "      <td>29690</td>\n",
       "      <td>624.110</td>\n",
       "      <td>212.826130</td>\n",
       "      <td>175.931143</td>\n",
       "      <td>193.410904</td>\n",
       "    </tr>\n",
       "    <tr>\n",
       "      <th>3</th>\n",
       "      <td>30724</td>\n",
       "      <td>645.884</td>\n",
       "      <td>210.557999</td>\n",
       "      <td>182.516516</td>\n",
       "      <td>195.467062</td>\n",
       "    </tr>\n",
       "    <tr>\n",
       "      <th>4</th>\n",
       "      <td>30417</td>\n",
       "      <td>620.134</td>\n",
       "      <td>201.847882</td>\n",
       "      <td>190.279279</td>\n",
       "      <td>195.896503</td>\n",
       "    </tr>\n",
       "  </tbody>\n",
       "</table>\n",
       "</div>"
      ],
      "text/plain": [
       "   ConvexArea  Perimeter  MajorAxisLength  MinorAxisLength  EquivDiameter\n",
       "0       28715    610.291       208.178117       173.888747     190.141097\n",
       "1       29172    638.018       200.524796       182.734419     191.272751\n",
       "2       29690    624.110       212.826130       175.931143     193.410904\n",
       "3       30724    645.884       210.557999       182.516516     195.467062\n",
       "4       30417    620.134       201.847882       190.279279     195.896503"
      ]
     },
     "execution_count": 15,
     "metadata": {
      "tags": []
     },
     "output_type": "execute_result"
    }
   ],
   "source": [
    "print(editedOriginalDataset.shape)\n",
    "editedOriginalDataset.head()"
   ]
  },
  {
   "cell_type": "markdown",
   "metadata": {
    "id": "s6kVw5pUcWVC"
   },
   "source": [
    "As you can see from the code cells below, I have created new dataframe named normalizedDataset. This normalizedDataset dataframe is created by normalizing editedOriginalDataset. Min-max normalization is used for normalization."
   ]
  },
  {
   "cell_type": "code",
   "execution_count": 16,
   "metadata": {
    "executionInfo": {
     "elapsed": 578,
     "status": "ok",
     "timestamp": 1618432978464,
     "user": {
      "displayName": "Gökay Turan",
      "photoUrl": "",
      "userId": "03034405363589506154"
     },
     "user_tz": -180
    },
    "id": "uDBBanzCbFdE"
   },
   "outputs": [],
   "source": [
    "normalizedDataset=((editedOriginalDataset-editedOriginalDataset.min())/(editedOriginalDataset.max()-editedOriginalDataset.min()))"
   ]
  },
  {
   "cell_type": "code",
   "execution_count": 17,
   "metadata": {
    "colab": {
     "base_uri": "https://localhost:8080/",
     "height": 204
    },
    "executionInfo": {
     "elapsed": 606,
     "status": "ok",
     "timestamp": 1618432980787,
     "user": {
      "displayName": "Gökay Turan",
      "photoUrl": "",
      "userId": "03034405363589506154"
     },
     "user_tz": -180
    },
    "id": "G5woMCc560h9",
    "outputId": "b0ec38e3-473d-40fb-a241-703be3284bfe"
   },
   "outputs": [
    {
     "data": {
      "text/html": [
       "<div>\n",
       "<style scoped>\n",
       "    .dataframe tbody tr th:only-of-type {\n",
       "        vertical-align: middle;\n",
       "    }\n",
       "\n",
       "    .dataframe tbody tr th {\n",
       "        vertical-align: top;\n",
       "    }\n",
       "\n",
       "    .dataframe thead th {\n",
       "        text-align: right;\n",
       "    }\n",
       "</style>\n",
       "<table border=\"1\" class=\"dataframe\">\n",
       "  <thead>\n",
       "    <tr style=\"text-align: right;\">\n",
       "      <th></th>\n",
       "      <th>ConvexArea</th>\n",
       "      <th>Perimeter</th>\n",
       "      <th>MajorAxisLength</th>\n",
       "      <th>MinorAxisLength</th>\n",
       "      <th>EquivDiameter</th>\n",
       "    </tr>\n",
       "  </thead>\n",
       "  <tbody>\n",
       "    <tr>\n",
       "      <th>0</th>\n",
       "      <td>0.033107</td>\n",
       "      <td>0.058574</td>\n",
       "      <td>0.044262</td>\n",
       "      <td>0.152142</td>\n",
       "      <td>0.070804</td>\n",
       "    </tr>\n",
       "    <tr>\n",
       "      <th>1</th>\n",
       "      <td>0.034991</td>\n",
       "      <td>0.077557</td>\n",
       "      <td>0.030479</td>\n",
       "      <td>0.178337</td>\n",
       "      <td>0.073577</td>\n",
       "    </tr>\n",
       "    <tr>\n",
       "      <th>2</th>\n",
       "      <td>0.037126</td>\n",
       "      <td>0.068035</td>\n",
       "      <td>0.052633</td>\n",
       "      <td>0.158190</td>\n",
       "      <td>0.078816</td>\n",
       "    </tr>\n",
       "    <tr>\n",
       "      <th>3</th>\n",
       "      <td>0.041389</td>\n",
       "      <td>0.082942</td>\n",
       "      <td>0.048548</td>\n",
       "      <td>0.177691</td>\n",
       "      <td>0.083854</td>\n",
       "    </tr>\n",
       "    <tr>\n",
       "      <th>4</th>\n",
       "      <td>0.040123</td>\n",
       "      <td>0.065313</td>\n",
       "      <td>0.032862</td>\n",
       "      <td>0.200679</td>\n",
       "      <td>0.084906</td>\n",
       "    </tr>\n",
       "  </tbody>\n",
       "</table>\n",
       "</div>"
      ],
      "text/plain": [
       "   ConvexArea  Perimeter  MajorAxisLength  MinorAxisLength  EquivDiameter\n",
       "0    0.033107   0.058574         0.044262         0.152142       0.070804\n",
       "1    0.034991   0.077557         0.030479         0.178337       0.073577\n",
       "2    0.037126   0.068035         0.052633         0.158190       0.078816\n",
       "3    0.041389   0.082942         0.048548         0.177691       0.083854\n",
       "4    0.040123   0.065313         0.032862         0.200679       0.084906"
      ]
     },
     "execution_count": 17,
     "metadata": {
      "tags": []
     },
     "output_type": "execute_result"
    }
   ],
   "source": [
    "normalizedDataset.head()"
   ]
  },
  {
   "cell_type": "markdown",
   "metadata": {
    "id": "L5yg37-IpGM1"
   },
   "source": [
    "## Modeling for Clustering <a class=\"anchor\" id=\"clusteringmodel\"></a>"
   ]
  },
  {
   "cell_type": "markdown",
   "metadata": {
    "id": "_gMRp2oIlvfK"
   },
   "source": [
    "I have chosen k-Means clustering according to my researches. There are several reasons why I choose k-Means clustering. First of all k-means clustering is relatively simple to implement. Other reason is that, k-means clustering scales to large datasets.\n",
    "\n",
    "As a parameter,I have chosen \"n_clusters\" parameter as 7 because there are 7 different type of classes in the dataset. Also we can use \"elbow method\" to choose optimal n_clusters.\n",
    "\n",
    "As you can see from the code cells below, although I know the number of classes in the dataset, I used the elbow method and the n_cluster parameter is also 7 according to the elbow method."
   ]
  },
  {
   "cell_type": "markdown",
   "metadata": {
    "id": "iqZQckCPfnDW"
   },
   "source": [
    "**K-Means Clustering with Edited Original Dataset**"
   ]
  },
  {
   "cell_type": "code",
   "execution_count": 18,
   "metadata": {
    "colab": {
     "base_uri": "https://localhost:8080/",
     "height": 312
    },
    "executionInfo": {
     "elapsed": 47805,
     "status": "ok",
     "timestamp": 1618433031950,
     "user": {
      "displayName": "Gökay Turan",
      "photoUrl": "",
      "userId": "03034405363589506154"
     },
     "user_tz": -180
    },
    "id": "Ry5PfNz65aBB",
    "outputId": "82b6c3cb-24ac-4423-86a8-48066c2100e5"
   },
   "outputs": [
    {
     "data": {
      "image/png": "[encoded data removed]",
      "text/plain": [
       "<Figure size 432x288 with 1 Axes>"
      ]
     },
     "metadata": {
      "needs_background": "light",
      "tags": []
     },
     "output_type": "display_data"
    },
    {
     "data": {
      "text/plain": [
       "<Figure size 1080x720 with 0 Axes>"
      ]
     },
     "metadata": {
      "tags": []
     },
     "output_type": "display_data"
    }
   ],
   "source": [
    "listOfInertias = []\n",
    "clusterRange = list(range(1,50))\n",
    "for k in clusterRange:\n",
    "    kmeansModel = KMeans(n_clusters=k)\n",
    "    kmeansModel.fit(editedOriginalDataset)\n",
    "    listOfInertias.append(kmeansModel.inertia_)\n",
    "\n",
    "plt.plot(clusterRange, listOfInertias, 'bx-')\n",
    "plt.xlabel('k')\n",
    "plt.ylabel('Inertia')\n",
    "plt.title('The Elbow Method Results(Edited Original Dataset)')\n",
    "plt.figure(figsize=(15,10))\n",
    "plt.show()"
   ]
  },
  {
   "cell_type": "code",
   "execution_count": 19,
   "metadata": {
    "colab": {
     "base_uri": "https://localhost:8080/"
    },
    "executionInfo": {
     "elapsed": 1074,
     "status": "ok",
     "timestamp": 1618433037467,
     "user": {
      "displayName": "Gökay Turan",
      "photoUrl": "",
      "userId": "03034405363589506154"
     },
     "user_tz": -180
    },
    "id": "LgOyQKu-fx5f",
    "outputId": "91ca9805-e756-4901-b3e8-ea350b2a40ed"
   },
   "outputs": [
    {
     "name": "stdout",
     "output_type": "stream",
     "text": [
      "[[6.89434477e+04 1.02170102e+03 3.85389449e+02 2.26394315e+02\n",
      "  2.93771050e+02]\n",
      " [1.98292327e+05 1.69323707e+03 6.39643548e+02 3.92683714e+02\n",
      "  4.98532334e+02]\n",
      " [3.11808748e+04 6.50257220e+02 2.38036509e+02 1.65161160e+02\n",
      "  1.97752614e+02]\n",
      " [4.14694467e+04 7.54984141e+02 2.76711771e+02 1.90001675e+02\n",
      "  2.28338240e+02]\n",
      " [5.28191765e+04 8.86974009e+02 3.45342353e+02 1.94235993e+02\n",
      "  2.57398561e+02]\n",
      " [1.60104604e+05 1.51061199e+03 5.60876066e+02 3.61467658e+02\n",
      "  4.48313187e+02]\n",
      " [8.43777637e+04 1.12432337e+03 4.23069838e+02 2.52026637e+02\n",
      "  3.24932499e+02]]\n"
     ]
    }
   ],
   "source": [
    "kmeans = KMeans(n_clusters=7,random_state=1)\n",
    "y_kmeans = kmeans.fit_predict(editedOriginalDataset)\n",
    "centersOfClusters = kmeans.cluster_centers_\n",
    "print(centersOfClusters)"
   ]
  },
  {
   "cell_type": "markdown",
   "metadata": {
    "id": "XO26sfh4gOTT"
   },
   "source": [
    "**K-Means Clustering with Normalized Dataset**"
   ]
  },
  {
   "cell_type": "code",
   "execution_count": 20,
   "metadata": {
    "colab": {
     "base_uri": "https://localhost:8080/",
     "height": 312
    },
    "executionInfo": {
     "elapsed": 89083,
     "status": "ok",
     "timestamp": 1618433133424,
     "user": {
      "displayName": "Gökay Turan",
      "photoUrl": "",
      "userId": "03034405363589506154"
     },
     "user_tz": -180
    },
    "id": "SdbRDxowEmz-",
    "outputId": "81604a8f-813c-47b4-913f-53bbfc29499f"
   },
   "outputs": [
    {
     "data": {
      "image/png": "[encoded data removed]",
      "text/plain": [
       "<Figure size 432x288 with 1 Axes>"
      ]
     },
     "metadata": {
      "needs_background": "light",
      "tags": []
     },
     "output_type": "display_data"
    },
    {
     "data": {
      "text/plain": [
       "<Figure size 1080x720 with 0 Axes>"
      ]
     },
     "metadata": {
      "tags": []
     },
     "output_type": "display_data"
    }
   ],
   "source": [
    "listOfInertias = []\n",
    "clusterRange = list(range(1,50))\n",
    "for k in clusterRange:\n",
    "    kmeansModel = KMeans(n_clusters=k)\n",
    "    kmeansModel.fit(normalizedDataset)\n",
    "    listOfInertias.append(kmeansModel.inertia_)\n",
    "\n",
    "plt.plot(clusterRange, listOfInertias, 'bx-')\n",
    "plt.xlabel('k')\n",
    "plt.ylabel('Inertia')\n",
    "plt.title('The Elbow Method Results(Normalized Dataset)')\n",
    "plt.figure(figsize=(15,10))\n",
    "plt.show()"
   ]
  },
  {
   "cell_type": "code",
   "execution_count": 21,
   "metadata": {
    "colab": {
     "base_uri": "https://localhost:8080/"
    },
    "executionInfo": {
     "elapsed": 964,
     "status": "ok",
     "timestamp": 1618433137614,
     "user": {
      "displayName": "Gökay Turan",
      "photoUrl": "",
      "userId": "03034405363589506154"
     },
     "user_tz": -180
    },
    "id": "kERErOtMzIvx",
    "outputId": "858099e0-6cb3-4a1c-d5fe-cf646e6b8f64"
   },
   "outputs": [
    {
     "name": "stdout",
     "output_type": "stream",
     "text": [
      "[[0.20319032 0.34297855 0.35946203 0.32090609 0.33005482]\n",
      " [0.10530303 0.19274236 0.21234489 0.21211888 0.19541293]\n",
      " [0.64044256 0.72714098 0.73865563 0.74620157 0.75472475]\n",
      " [0.03613397 0.07456477 0.09128855 0.10633225 0.07592298]\n",
      " [0.14331831 0.27493117 0.33854208 0.19646438 0.25075034]\n",
      " [0.07154949 0.13055535 0.13169387 0.19255712 0.14096388]\n",
      " [0.26438872 0.41416513 0.43391947 0.38479428 0.40312471]]\n"
     ]
    }
   ],
   "source": [
    "kmeansNormalized = KMeans(n_clusters=7,random_state=1)\n",
    "y_kmeansNormalized = kmeansNormalized.fit_predict(normalizedDataset)\n",
    "centersOfClustersNormalized = kmeansNormalized.cluster_centers_\n",
    "print(centersOfClustersNormalized)"
   ]
  },
  {
   "cell_type": "markdown",
   "metadata": {
    "id": "KdjxO3EF9QWy"
   },
   "source": [
    "## Clustering results<a class=\"anchor\" id=\"clustering\"></a>"
   ]
  },
  {
   "cell_type": "markdown",
   "metadata": {
    "id": "2Y0ME3Lbiap_"
   },
   "source": [
    "**Edited Original Dataset Clustering Results**"
   ]
  },
  {
   "cell_type": "code",
   "execution_count": 22,
   "metadata": {
    "executionInfo": {
     "elapsed": 590,
     "status": "ok",
     "timestamp": 1618433140590,
     "user": {
      "displayName": "Gökay Turan",
      "photoUrl": "",
      "userId": "03034405363589506154"
     },
     "user_tz": -180
    },
    "id": "3QUw1YPUCXaE"
   },
   "outputs": [],
   "source": [
    "X = editedOriginalDataset.copy()\n",
    "X = np.array(X)"
   ]
  },
  {
   "cell_type": "code",
   "execution_count": 23,
   "metadata": {
    "colab": {
     "base_uri": "https://localhost:8080/",
     "height": 282
    },
    "executionInfo": {
     "elapsed": 1242,
     "status": "ok",
     "timestamp": 1618433143892,
     "user": {
      "displayName": "Gökay Turan",
      "photoUrl": "",
      "userId": "03034405363589506154"
     },
     "user_tz": -180
    },
    "id": "_v1PEMA9BxMm",
    "outputId": "ea04ab57-b6be-4b3f-c5dc-e53ab6124a15"
   },
   "outputs": [
    {
     "data": {
      "text/plain": [
       "<matplotlib.collections.PathCollection at 0x7ff9ad4c0090>"
      ]
     },
     "execution_count": 23,
     "metadata": {
      "tags": []
     },
     "output_type": "execute_result"
    },
    {
     "data": {
      "image/png": "[encoded data removed]",
      "text/plain": [
       "<Figure size 432x288 with 1 Axes>"
      ]
     },
     "metadata": {
      "needs_background": "light",
      "tags": []
     },
     "output_type": "display_data"
    }
   ],
   "source": [
    "plt.scatter(X[y_kmeans==0, 0], X[y_kmeans==0, 1], s=100, c='red')\n",
    "plt.scatter(X[y_kmeans==1, 0], X[y_kmeans==1, 1], s=100, c='blue')\n",
    "plt.scatter(X[y_kmeans==2, 0], X[y_kmeans==2, 1], s=100, c='green')\n",
    "plt.scatter(X[y_kmeans==3, 0], X[y_kmeans==3, 1], s=100, c='cyan')\n",
    "plt.scatter(X[y_kmeans==4, 0], X[y_kmeans==4, 1], s=100, c='magenta')\n",
    "plt.scatter(X[y_kmeans==5, 0], X[y_kmeans==5, 1], s=100, c='orange')\n",
    "plt.scatter(X[y_kmeans==6, 0], X[y_kmeans==6, 1], s=100, c='brown')\n",
    "plt.scatter(centersOfClusters[:, 0], centersOfClusters[:,1], s = 100, c = 'yellow', label = 'Centroids')"
   ]
  },
  {
   "cell_type": "markdown",
   "metadata": {
    "id": "ptRq6_Igin5E"
   },
   "source": [
    "**Normalized Dataset Clustering Results**"
   ]
  },
  {
   "cell_type": "code",
   "execution_count": 24,
   "metadata": {
    "executionInfo": {
     "elapsed": 677,
     "status": "ok",
     "timestamp": 1618433146871,
     "user": {
      "displayName": "Gökay Turan",
      "photoUrl": "",
      "userId": "03034405363589506154"
     },
     "user_tz": -180
    },
    "id": "rn1ZQSZrDitW"
   },
   "outputs": [],
   "source": [
    "XNormalized = normalizedDataset.copy()\n",
    "XNormalized = np.array(XNormalized)"
   ]
  },
  {
   "cell_type": "code",
   "execution_count": 25,
   "metadata": {
    "colab": {
     "base_uri": "https://localhost:8080/",
     "height": 282
    },
    "executionInfo": {
     "elapsed": 1328,
     "status": "ok",
     "timestamp": 1618433150733,
     "user": {
      "displayName": "Gökay Turan",
      "photoUrl": "",
      "userId": "03034405363589506154"
     },
     "user_tz": -180
    },
    "id": "H05X5H5biVU-",
    "outputId": "d6a43da0-c387-4fb6-acac-d774f3e70add"
   },
   "outputs": [
    {
     "data": {
      "text/plain": [
       "<matplotlib.collections.PathCollection at 0x7ff9ad425a50>"
      ]
     },
     "execution_count": 25,
     "metadata": {
      "tags": []
     },
     "output_type": "execute_result"
    },
    {
     "data": {
      "image/png": "[encoded data removed]",
      "text/plain": [
       "<Figure size 432x288 with 1 Axes>"
      ]
     },
     "metadata": {
      "needs_background": "light",
      "tags": []
     },
     "output_type": "display_data"
    }
   ],
   "source": [
    "plt.scatter(XNormalized[y_kmeansNormalized==0, 0], XNormalized[y_kmeansNormalized==0, 1], s=100, c='red')\n",
    "plt.scatter(XNormalized[y_kmeansNormalized==1, 0], XNormalized[y_kmeansNormalized==1, 1], s=100, c='blue')\n",
    "plt.scatter(XNormalized[y_kmeansNormalized==2, 0], XNormalized[y_kmeansNormalized==2, 1], s=100, c='green')\n",
    "plt.scatter(XNormalized[y_kmeansNormalized==3, 0], XNormalized[y_kmeansNormalized==3, 1], s=100, c='cyan')\n",
    "plt.scatter(XNormalized[y_kmeansNormalized==4, 0], XNormalized[y_kmeansNormalized==4, 1], s=100, c='magenta')\n",
    "plt.scatter(XNormalized[y_kmeansNormalized==5, 0], XNormalized[y_kmeansNormalized==5, 1], s=100, c='orange')\n",
    "plt.scatter(XNormalized[y_kmeansNormalized==6, 0], XNormalized[y_kmeansNormalized==6, 1], s=100, c='brown')\n",
    "plt.scatter(centersOfClustersNormalized[:, 0], centersOfClustersNormalized[:,1], s = 100, c = 'yellow', label = 'Centroids')"
   ]
  },
  {
   "cell_type": "markdown",
   "metadata": {
    "id": "2ebDW7Pl9xkV"
   },
   "source": [
    "\n",
    "## Modeling for Classification <a class=\"anchor\" id=\"classificationmodel\"></a>"
   ]
  },
  {
   "cell_type": "markdown",
   "metadata": {
    "id": "m9sE-JSV1vWh"
   },
   "source": [
    "I have used K-Nearest Neighbors for classification. There are several reasons why I use KNN. First of all KNN algorithm is versatile, other reason is that KNN algorithm is easy to implement and lastly,we can get high accuracies with KNN algorithm.\n",
    "\n",
    "In the KNN algorithm there is one parameter and this parameter is number of neighbors. We can choose this parameter by trying different parameters and comparing results of these parameters. For this reason firstly I will split edited original dataset into train and test then I will try different parameters"
   ]
  },
  {
   "cell_type": "markdown",
   "metadata": {
    "id": "9Kh1gaSIFqnm"
   },
   "source": [
    "**Classification with Edited Original Dataset**"
   ]
  },
  {
   "cell_type": "markdown",
   "metadata": {
    "id": "b18M0hsj__27"
   },
   "source": [
    "As you can see from the code cells below, I have splitted edited original dataset into train and test. I have splitted data as %80 train data and %20 test data. You can see lengths of splitted datasets from the code cells below."
   ]
  },
  {
   "cell_type": "code",
   "execution_count": 27,
   "metadata": {
    "executionInfo": {
     "elapsed": 783,
     "status": "ok",
     "timestamp": 1618433177594,
     "user": {
      "displayName": "Gökay Turan",
      "photoUrl": "",
      "userId": "03034405363589506154"
     },
     "user_tz": -180
    },
    "id": "21HfbOod1UYD"
   },
   "outputs": [],
   "source": [
    "classesOfOriginalData = rawOriginalData['Class'].copy()"
   ]
  },
  {
   "cell_type": "code",
   "execution_count": 28,
   "metadata": {
    "executionInfo": {
     "elapsed": 608,
     "status": "ok",
     "timestamp": 1618433187750,
     "user": {
      "displayName": "Gökay Turan",
      "photoUrl": "",
      "userId": "03034405363589506154"
     },
     "user_tz": -180
    },
    "id": "2Dha-zPCHoIL"
   },
   "outputs": [],
   "source": [
    "original_train,original_test,classesOfOriginalData_train,classesOfOriginalData_test = train_test_split(editedOriginalDataset,classesOfOriginalData,test_size=0.2,random_state=1)"
   ]
  },
  {
   "cell_type": "code",
   "execution_count": 29,
   "metadata": {
    "colab": {
     "base_uri": "https://localhost:8080/"
    },
    "executionInfo": {
     "elapsed": 1072,
     "status": "ok",
     "timestamp": 1618433190972,
     "user": {
      "displayName": "Gökay Turan",
      "photoUrl": "",
      "userId": "03034405363589506154"
     },
     "user_tz": -180
    },
    "id": "sG0O3tgFA7DQ",
    "outputId": "0c441142-c56b-40d2-ff0d-59a916415518"
   },
   "outputs": [
    {
     "name": "stdout",
     "output_type": "stream",
     "text": [
      "Length of original_train 10888\n",
      "Length of original_test 2723\n",
      "Length of classesOfOriginalData_train 10888\n",
      "Length of classesOfOriginalData_test 2723\n"
     ]
    }
   ],
   "source": [
    "print(\"Length of original_train\",len(original_train))\n",
    "print(\"Length of original_test\",len(original_test))\n",
    "print(\"Length of classesOfOriginalData_train\",len(classesOfOriginalData_train))\n",
    "print(\"Length of classesOfOriginalData_test\",len(classesOfOriginalData_test))"
   ]
  },
  {
   "cell_type": "code",
   "execution_count": 30,
   "metadata": {
    "colab": {
     "base_uri": "https://localhost:8080/",
     "height": 204
    },
    "executionInfo": {
     "elapsed": 600,
     "status": "ok",
     "timestamp": 1618433193775,
     "user": {
      "displayName": "Gökay Turan",
      "photoUrl": "",
      "userId": "03034405363589506154"
     },
     "user_tz": -180
    },
    "id": "M1an_1sxHo3N",
    "outputId": "c04e5523-905d-4c48-93c9-8dd6934d96ec"
   },
   "outputs": [
    {
     "data": {
      "text/html": [
       "<div>\n",
       "<style scoped>\n",
       "    .dataframe tbody tr th:only-of-type {\n",
       "        vertical-align: middle;\n",
       "    }\n",
       "\n",
       "    .dataframe tbody tr th {\n",
       "        vertical-align: top;\n",
       "    }\n",
       "\n",
       "    .dataframe thead th {\n",
       "        text-align: right;\n",
       "    }\n",
       "</style>\n",
       "<table border=\"1\" class=\"dataframe\">\n",
       "  <thead>\n",
       "    <tr style=\"text-align: right;\">\n",
       "      <th></th>\n",
       "      <th>ConvexArea</th>\n",
       "      <th>Perimeter</th>\n",
       "      <th>MajorAxisLength</th>\n",
       "      <th>MinorAxisLength</th>\n",
       "      <th>EquivDiameter</th>\n",
       "    </tr>\n",
       "  </thead>\n",
       "  <tbody>\n",
       "    <tr>\n",
       "      <th>2663</th>\n",
       "      <td>70526</td>\n",
       "      <td>1103.241</td>\n",
       "      <td>396.140798</td>\n",
       "      <td>223.268240</td>\n",
       "      <td>296.641419</td>\n",
       "    </tr>\n",
       "    <tr>\n",
       "      <th>7648</th>\n",
       "      <td>38979</td>\n",
       "      <td>733.994</td>\n",
       "      <td>272.173897</td>\n",
       "      <td>180.771739</td>\n",
       "      <td>221.429857</td>\n",
       "    </tr>\n",
       "    <tr>\n",
       "      <th>7480</th>\n",
       "      <td>36235</td>\n",
       "      <td>704.049</td>\n",
       "      <td>255.609616</td>\n",
       "      <td>178.903958</td>\n",
       "      <td>213.302466</td>\n",
       "    </tr>\n",
       "    <tr>\n",
       "      <th>3339</th>\n",
       "      <td>98108</td>\n",
       "      <td>1252.315</td>\n",
       "      <td>434.980462</td>\n",
       "      <td>283.482724</td>\n",
       "      <td>350.195888</td>\n",
       "    </tr>\n",
       "    <tr>\n",
       "      <th>4179</th>\n",
       "      <td>69449</td>\n",
       "      <td>1014.851</td>\n",
       "      <td>390.126383</td>\n",
       "      <td>225.082546</td>\n",
       "      <td>293.907577</td>\n",
       "    </tr>\n",
       "  </tbody>\n",
       "</table>\n",
       "</div>"
      ],
      "text/plain": [
       "      ConvexArea  Perimeter  MajorAxisLength  MinorAxisLength  EquivDiameter\n",
       "2663       70526   1103.241       396.140798       223.268240     296.641419\n",
       "7648       38979    733.994       272.173897       180.771739     221.429857\n",
       "7480       36235    704.049       255.609616       178.903958     213.302466\n",
       "3339       98108   1252.315       434.980462       283.482724     350.195888\n",
       "4179       69449   1014.851       390.126383       225.082546     293.907577"
      ]
     },
     "execution_count": 30,
     "metadata": {
      "tags": []
     },
     "output_type": "execute_result"
    }
   ],
   "source": [
    "original_train.head()"
   ]
  },
  {
   "cell_type": "markdown",
   "metadata": {
    "id": "5rpTVfqSI65g"
   },
   "source": [
    "As you can see from the code cell below, I have tried number of neighbor values from 1 to 25 and then I have visualized it. I used number of neighbor value which has best test accuracy."
   ]
  },
  {
   "cell_type": "code",
   "execution_count": 31,
   "metadata": {
    "colab": {
     "base_uri": "https://localhost:8080/",
     "height": 621
    },
    "executionInfo": {
     "elapsed": 11906,
     "status": "ok",
     "timestamp": 1618433208728,
     "user": {
      "displayName": "Gökay Turan",
      "photoUrl": "",
      "userId": "03034405363589506154"
     },
     "user_tz": -180
    },
    "id": "gKhFlTwkBVdI",
    "outputId": "842ca760-ec88-470c-c3cb-8f4a918eb31c"
   },
   "outputs": [
    {
     "data": {
      "image/png": "[encoded data removed]",
      "text/plain": [
       "<Figure size 1080x720 with 1 Axes>"
      ]
     },
     "metadata": {
      "needs_background": "light",
      "tags": []
     },
     "output_type": "display_data"
    }
   ],
   "source": [
    "listOfK = np.arange(1, 25)\n",
    "train_accuracy = []\n",
    "test_accuracy = []\n",
    "for k in listOfK:\n",
    "    knn = KNeighborsClassifier(n_neighbors=k)\n",
    "    knn.fit(original_train,classesOfOriginalData_train)\n",
    "    train_accuracy.append(knn.score(original_train,classesOfOriginalData_train))\n",
    "    test_accuracy.append(knn.score(original_test,classesOfOriginalData_test))\n",
    "\n",
    "plt.figure(figsize=[15,10])\n",
    "plt.plot(listOfK, test_accuracy, label = 'Test Accuracy')\n",
    "plt.plot(listOfK, train_accuracy, label = 'Train Accuracy')\n",
    "plt.legend()\n",
    "plt.xticks(listOfK)\n",
    "plt.grid()\n",
    "plt.title(' Number of Neighbors vs Accuracy')\n",
    "plt.xlabel('Number of Neighbors')\n",
    "plt.ylabel('Accuracy')\n",
    "plt.show()"
   ]
  },
  {
   "cell_type": "markdown",
   "metadata": {
    "id": "iunewlfIEevm"
   },
   "source": [
    "As you can see from the graph above, I got the best test accuracy when number of neighbor is 1,so I have used n_neighbors parameter as 1."
   ]
  },
  {
   "cell_type": "code",
   "execution_count": 32,
   "metadata": {
    "colab": {
     "base_uri": "https://localhost:8080/"
    },
    "executionInfo": {
     "elapsed": 763,
     "status": "ok",
     "timestamp": 1618433229678,
     "user": {
      "displayName": "Gökay Turan",
      "photoUrl": "",
      "userId": "03034405363589506154"
     },
     "user_tz": -180
    },
    "id": "nub5N2wPPAg7",
    "outputId": "8fa3eb2e-a099-4b25-e501-62745c3fcb12"
   },
   "outputs": [
    {
     "name": "stdout",
     "output_type": "stream",
     "text": [
      "Accuracy:  0.8325376423062798\n"
     ]
    }
   ],
   "source": [
    "knn = KNeighborsClassifier(n_neighbors = 1)\n",
    "knn.fit(original_train,classesOfOriginalData_train)\n",
    "prediction = knn.predict(original_test)\n",
    "print('Accuracy: ',knn.score(original_test,classesOfOriginalData_test))"
   ]
  },
  {
   "cell_type": "markdown",
   "metadata": {
    "id": "Q6kGKnSFFzPw"
   },
   "source": [
    "**Classification with Normalized Dataset**"
   ]
  },
  {
   "cell_type": "markdown",
   "metadata": {
    "id": "phZLQYCyRAbz"
   },
   "source": [
    "As you can see from the code cells below, I have normalized splitted edited original dataset."
   ]
  },
  {
   "cell_type": "code",
   "execution_count": 33,
   "metadata": {
    "executionInfo": {
     "elapsed": 658,
     "status": "ok",
     "timestamp": 1618433233667,
     "user": {
      "displayName": "Gökay Turan",
      "photoUrl": "",
      "userId": "03034405363589506154"
     },
     "user_tz": -180
    },
    "id": "vFwJeAL4RHgb"
   },
   "outputs": [],
   "source": [
    "normalized_train = ((original_train-original_train.min())/(original_train.max()-original_train.min()))\n",
    "normalized_test = ((original_test-original_test.min())/(original_test.max()-original_test.min()))"
   ]
  },
  {
   "cell_type": "code",
   "execution_count": 34,
   "metadata": {
    "colab": {
     "base_uri": "https://localhost:8080/",
     "height": 204
    },
    "executionInfo": {
     "elapsed": 600,
     "status": "ok",
     "timestamp": 1618433236428,
     "user": {
      "displayName": "Gökay Turan",
      "photoUrl": "",
      "userId": "03034405363589506154"
     },
     "user_tz": -180
    },
    "id": "6KACrjxQVtH4",
    "outputId": "124c17a6-de3e-40cd-ca6d-d227efd68ed3"
   },
   "outputs": [
    {
     "data": {
      "text/html": [
       "<div>\n",
       "<style scoped>\n",
       "    .dataframe tbody tr th:only-of-type {\n",
       "        vertical-align: middle;\n",
       "    }\n",
       "\n",
       "    .dataframe tbody tr th {\n",
       "        vertical-align: top;\n",
       "    }\n",
       "\n",
       "    .dataframe thead th {\n",
       "        text-align: right;\n",
       "    }\n",
       "</style>\n",
       "<table border=\"1\" class=\"dataframe\">\n",
       "  <thead>\n",
       "    <tr style=\"text-align: right;\">\n",
       "      <th></th>\n",
       "      <th>ConvexArea</th>\n",
       "      <th>Perimeter</th>\n",
       "      <th>MajorAxisLength</th>\n",
       "      <th>MinorAxisLength</th>\n",
       "      <th>EquivDiameter</th>\n",
       "    </tr>\n",
       "  </thead>\n",
       "  <tbody>\n",
       "    <tr>\n",
       "      <th>2663</th>\n",
       "      <td>0.205469</td>\n",
       "      <td>0.396064</td>\n",
       "      <td>0.382776</td>\n",
       "      <td>0.298371</td>\n",
       "      <td>0.331751</td>\n",
       "    </tr>\n",
       "    <tr>\n",
       "      <th>7648</th>\n",
       "      <td>0.075419</td>\n",
       "      <td>0.143265</td>\n",
       "      <td>0.159516</td>\n",
       "      <td>0.172525</td>\n",
       "      <td>0.147468</td>\n",
       "    </tr>\n",
       "    <tr>\n",
       "      <th>7480</th>\n",
       "      <td>0.064107</td>\n",
       "      <td>0.122764</td>\n",
       "      <td>0.129684</td>\n",
       "      <td>0.166993</td>\n",
       "      <td>0.127554</td>\n",
       "    </tr>\n",
       "    <tr>\n",
       "      <th>3339</th>\n",
       "      <td>0.319173</td>\n",
       "      <td>0.498125</td>\n",
       "      <td>0.452724</td>\n",
       "      <td>0.476686</td>\n",
       "      <td>0.462970</td>\n",
       "    </tr>\n",
       "    <tr>\n",
       "      <th>4179</th>\n",
       "      <td>0.201029</td>\n",
       "      <td>0.335549</td>\n",
       "      <td>0.371944</td>\n",
       "      <td>0.303744</td>\n",
       "      <td>0.325052</td>\n",
       "    </tr>\n",
       "  </tbody>\n",
       "</table>\n",
       "</div>"
      ],
      "text/plain": [
       "      ConvexArea  Perimeter  MajorAxisLength  MinorAxisLength  EquivDiameter\n",
       "2663    0.205469   0.396064         0.382776         0.298371       0.331751\n",
       "7648    0.075419   0.143265         0.159516         0.172525       0.147468\n",
       "7480    0.064107   0.122764         0.129684         0.166993       0.127554\n",
       "3339    0.319173   0.498125         0.452724         0.476686       0.462970\n",
       "4179    0.201029   0.335549         0.371944         0.303744       0.325052"
      ]
     },
     "execution_count": 34,
     "metadata": {
      "tags": []
     },
     "output_type": "execute_result"
    }
   ],
   "source": [
    "normalized_train.head()"
   ]
  },
  {
   "cell_type": "code",
   "execution_count": 35,
   "metadata": {
    "colab": {
     "base_uri": "https://localhost:8080/",
     "height": 204
    },
    "executionInfo": {
     "elapsed": 664,
     "status": "ok",
     "timestamp": 1618433239010,
     "user": {
      "displayName": "Gökay Turan",
      "photoUrl": "",
      "userId": "03034405363589506154"
     },
     "user_tz": -180
    },
    "id": "nsM0yoR2VvVe",
    "outputId": "96f77f86-6ad5-49a0-8ce9-a250ff8f99e1"
   },
   "outputs": [
    {
     "data": {
      "text/html": [
       "<div>\n",
       "<style scoped>\n",
       "    .dataframe tbody tr th:only-of-type {\n",
       "        vertical-align: middle;\n",
       "    }\n",
       "\n",
       "    .dataframe tbody tr th {\n",
       "        vertical-align: top;\n",
       "    }\n",
       "\n",
       "    .dataframe thead th {\n",
       "        text-align: right;\n",
       "    }\n",
       "</style>\n",
       "<table border=\"1\" class=\"dataframe\">\n",
       "  <thead>\n",
       "    <tr style=\"text-align: right;\">\n",
       "      <th></th>\n",
       "      <th>ConvexArea</th>\n",
       "      <th>Perimeter</th>\n",
       "      <th>MajorAxisLength</th>\n",
       "      <th>MinorAxisLength</th>\n",
       "      <th>EquivDiameter</th>\n",
       "    </tr>\n",
       "  </thead>\n",
       "  <tbody>\n",
       "    <tr>\n",
       "      <th>10057</th>\n",
       "      <td>0.158389</td>\n",
       "      <td>0.278196</td>\n",
       "      <td>0.317914</td>\n",
       "      <td>0.233763</td>\n",
       "      <td>0.268485</td>\n",
       "    </tr>\n",
       "    <tr>\n",
       "      <th>13354</th>\n",
       "      <td>0.079139</td>\n",
       "      <td>0.149506</td>\n",
       "      <td>0.168324</td>\n",
       "      <td>0.153756</td>\n",
       "      <td>0.151669</td>\n",
       "    </tr>\n",
       "    <tr>\n",
       "      <th>13141</th>\n",
       "      <td>0.073072</td>\n",
       "      <td>0.136729</td>\n",
       "      <td>0.147240</td>\n",
       "      <td>0.157649</td>\n",
       "      <td>0.141464</td>\n",
       "    </tr>\n",
       "    <tr>\n",
       "      <th>8634</th>\n",
       "      <td>0.100606</td>\n",
       "      <td>0.199427</td>\n",
       "      <td>0.228457</td>\n",
       "      <td>0.157041</td>\n",
       "      <td>0.184142</td>\n",
       "    </tr>\n",
       "    <tr>\n",
       "      <th>12579</th>\n",
       "      <td>0.060520</td>\n",
       "      <td>0.116180</td>\n",
       "      <td>0.103030</td>\n",
       "      <td>0.162970</td>\n",
       "      <td>0.119562</td>\n",
       "    </tr>\n",
       "  </tbody>\n",
       "</table>\n",
       "</div>"
      ],
      "text/plain": [
       "       ConvexArea  Perimeter  MajorAxisLength  MinorAxisLength  EquivDiameter\n",
       "10057    0.158389   0.278196         0.317914         0.233763       0.268485\n",
       "13354    0.079139   0.149506         0.168324         0.153756       0.151669\n",
       "13141    0.073072   0.136729         0.147240         0.157649       0.141464\n",
       "8634     0.100606   0.199427         0.228457         0.157041       0.184142\n",
       "12579    0.060520   0.116180         0.103030         0.162970       0.119562"
      ]
     },
     "execution_count": 35,
     "metadata": {
      "tags": []
     },
     "output_type": "execute_result"
    }
   ],
   "source": [
    "normalized_test.head()"
   ]
  },
  {
   "cell_type": "markdown",
   "metadata": {
    "id": "GwvBL74zJmva"
   },
   "source": [
    "As you can see from the code cell below, I have tried number of neighbor values from 1 to 30 and then I have visualized it. I used number of neighbor value which has best test accuracy."
   ]
  },
  {
   "cell_type": "code",
   "execution_count": 36,
   "metadata": {
    "colab": {
     "base_uri": "https://localhost:8080/",
     "height": 621
    },
    "executionInfo": {
     "elapsed": 15184,
     "status": "ok",
     "timestamp": 1618433256759,
     "user": {
      "displayName": "Gökay Turan",
      "photoUrl": "",
      "userId": "03034405363589506154"
     },
     "user_tz": -180
    },
    "id": "CocXhhYbEade",
    "outputId": "97960d07-5e1c-4d96-9ef0-fb8eae29e0f6"
   },
   "outputs": [
    {
     "data": {
      "image/png": "[encoded data removed]",
      "text/plain": [
       "<Figure size 1080x720 with 1 Axes>"
      ]
     },
     "metadata": {
      "needs_background": "light",
      "tags": []
     },
     "output_type": "display_data"
    }
   ],
   "source": [
    "listOfK = np.arange(1, 30)\n",
    "train_accuracy = []\n",
    "test_accuracy = []\n",
    "for k in listOfK:\n",
    "    knn = KNeighborsClassifier(n_neighbors=k)\n",
    "    knn.fit(normalized_train,classesOfOriginalData_train)\n",
    "    train_accuracy.append(knn.score(normalized_train,classesOfOriginalData_train))\n",
    "    test_accuracy.append(knn.score(normalized_test,classesOfOriginalData_test))\n",
    "\n",
    "plt.figure(figsize=[15,10])\n",
    "plt.plot(listOfK, test_accuracy, label = 'Test Accuracy')\n",
    "plt.plot(listOfK, train_accuracy, label = 'Train Accuracy')\n",
    "plt.legend()\n",
    "plt.xticks(listOfK)\n",
    "plt.grid()\n",
    "plt.title(' Number of Neighbors vs Accuracy')\n",
    "plt.xlabel('Number of Neighbors')\n",
    "plt.ylabel('Accuracy')\n",
    "plt.show()"
   ]
  },
  {
   "cell_type": "markdown",
   "metadata": {
    "id": "o8RLGp76KNnH"
   },
   "source": [
    "As you can see from the graph above, I got the best test accuracy when number of neighbor is 1,so I have used n_neighbors parameter as 24."
   ]
  },
  {
   "cell_type": "code",
   "execution_count": 37,
   "metadata": {
    "colab": {
     "base_uri": "https://localhost:8080/"
    },
    "executionInfo": {
     "elapsed": 840,
     "status": "ok",
     "timestamp": 1618433260415,
     "user": {
      "displayName": "Gökay Turan",
      "photoUrl": "",
      "userId": "03034405363589506154"
     },
     "user_tz": -180
    },
    "id": "AKpZGHo7V3pG",
    "outputId": "a2f55f7c-31f1-44e2-d965-1361e595ef02"
   },
   "outputs": [
    {
     "name": "stdout",
     "output_type": "stream",
     "text": [
      "Accuracy:  0.9096584649283878\n"
     ]
    }
   ],
   "source": [
    "knnWithNormalizedData = KNeighborsClassifier(n_neighbors = 24)\n",
    "knnWithNormalizedData.fit(normalized_train,classesOfOriginalData_train)\n",
    "predictionNormalized = knnWithNormalizedData.predict(normalized_test)\n",
    "print('Accuracy: ',knnWithNormalizedData.score(normalized_test,classesOfOriginalData_test))"
   ]
  },
  {
   "cell_type": "markdown",
   "metadata": {
    "id": "1Vxg2ptipGNZ"
   },
   "source": [
    "## Evaluation<a class=\"anchor\" id=\"evaluation\"></a>"
   ]
  },
  {
   "cell_type": "markdown",
   "metadata": {
    "id": "MIOjJveuvsDo"
   },
   "source": [
    "**Evaluation of Classification of Edited Original Dataset**"
   ]
  },
  {
   "cell_type": "code",
   "execution_count": 38,
   "metadata": {
    "colab": {
     "base_uri": "https://localhost:8080/"
    },
    "executionInfo": {
     "elapsed": 603,
     "status": "ok",
     "timestamp": 1618433263324,
     "user": {
      "displayName": "Gökay Turan",
      "photoUrl": "",
      "userId": "03034405363589506154"
     },
     "user_tz": -180
    },
    "id": "AhUEb5pJv-7x",
    "outputId": "0982ea6a-e584-4c5d-fb78-bbded7455527"
   },
   "outputs": [
    {
     "name": "stdout",
     "output_type": "stream",
     "text": [
      "[[626  65   9   5   0   0   0]\n",
      " [ 63 419  16  19   4   0   0]\n",
      " [ 27  30 343   1   0   4   0]\n",
      " [  4  21   0 340   9  12   0]\n",
      " [  0   0   0  12 277  43   1]\n",
      " [  1  16   0  15  79 159   0]\n",
      " [  0   0   0   0   0   0 103]]\n"
     ]
    }
   ],
   "source": [
    "confusionMatrixOriginal = confusion_matrix(classesOfOriginalData_test, prediction)\n",
    "print(confusionMatrixOriginal)"
   ]
  },
  {
   "cell_type": "code",
   "execution_count": 39,
   "metadata": {
    "colab": {
     "base_uri": "https://localhost:8080/",
     "height": 592
    },
    "executionInfo": {
     "elapsed": 1429,
     "status": "ok",
     "timestamp": 1618433266871,
     "user": {
      "displayName": "Gökay Turan",
      "photoUrl": "",
      "userId": "03034405363589506154"
     },
     "user_tz": -180
    },
    "id": "3cnBd58vv_UL",
    "outputId": "6691f203-4c8d-49d9-bd90-dd3c0dad777c"
   },
   "outputs": [
    {
     "data": {
      "image/png": "[encoded data removed]",
      "text/plain": [
       "<Figure size 1080x720 with 2 Axes>"
      ]
     },
     "metadata": {
      "needs_background": "light",
      "tags": []
     },
     "output_type": "display_data"
    }
   ],
   "source": [
    "plt.figure(figsize=(15,10))\n",
    "heatMapOriginal = sns.heatmap(confusionMatrixOriginal,square=True,annot=True,fmt='d',cbar=True,cmap=plt.cm.GnBu)\n",
    "plt.show()"
   ]
  },
  {
   "cell_type": "code",
   "execution_count": 40,
   "metadata": {
    "colab": {
     "base_uri": "https://localhost:8080/"
    },
    "executionInfo": {
     "elapsed": 613,
     "status": "ok",
     "timestamp": 1618433269728,
     "user": {
      "displayName": "Gökay Turan",
      "photoUrl": "",
      "userId": "03034405363589506154"
     },
     "user_tz": -180
    },
    "id": "tnSGXvcXv_pT",
    "outputId": "089c25ff-3520-42eb-a407-64960c8df5a6"
   },
   "outputs": [
    {
     "name": "stdout",
     "output_type": "stream",
     "text": [
      "              precision    recall  f1-score   support\n",
      "\n",
      "           1       0.87      0.89      0.88       705\n",
      "           2       0.76      0.80      0.78       521\n",
      "           3       0.93      0.85      0.89       405\n",
      "           4       0.87      0.88      0.87       386\n",
      "           5       0.75      0.83      0.79       333\n",
      "           6       0.73      0.59      0.65       270\n",
      "           7       0.99      1.00      1.00       103\n",
      "\n",
      "    accuracy                           0.83      2723\n",
      "   macro avg       0.84      0.83      0.84      2723\n",
      "weighted avg       0.83      0.83      0.83      2723\n",
      "\n"
     ]
    }
   ],
   "source": [
    "print(classification_report(classesOfOriginalData_test,prediction))"
   ]
  },
  {
   "cell_type": "markdown",
   "metadata": {
    "id": "iw7gg2UCv3rz"
   },
   "source": [
    "**Evaluation of Classification of Normalized Dataset**"
   ]
  },
  {
   "cell_type": "code",
   "execution_count": 41,
   "metadata": {
    "colab": {
     "base_uri": "https://localhost:8080/"
    },
    "executionInfo": {
     "elapsed": 645,
     "status": "ok",
     "timestamp": 1618433272238,
     "user": {
      "displayName": "Gökay Turan",
      "photoUrl": "",
      "userId": "03034405363589506154"
     },
     "user_tz": -180
    },
    "id": "qREn94uEpGNy",
    "outputId": "bd40861a-304e-4dfe-d12e-c3c4028ee43b"
   },
   "outputs": [
    {
     "name": "stdout",
     "output_type": "stream",
     "text": [
      "[[655  47   2   1   0   0   0]\n",
      " [ 49 454   4  14   0   0   0]\n",
      " [ 16  24 361   0   0   4   0]\n",
      " [  3   8   0 370   2   3   0]\n",
      " [  0   1   0  10 299  23   0]\n",
      " [  0   8   0   3  24 235   0]\n",
      " [  0   0   0   0   0   0 103]]\n"
     ]
    }
   ],
   "source": [
    "confusionMatrixNormalized = confusion_matrix(classesOfOriginalData_test, predictionNormalized)\n",
    "print(confusionMatrixNormalized)"
   ]
  },
  {
   "cell_type": "code",
   "execution_count": 42,
   "metadata": {
    "colab": {
     "base_uri": "https://localhost:8080/",
     "height": 592
    },
    "executionInfo": {
     "elapsed": 1248,
     "status": "ok",
     "timestamp": 1618433275185,
     "user": {
      "displayName": "Gökay Turan",
      "photoUrl": "",
      "userId": "03034405363589506154"
     },
     "user_tz": -180
    },
    "id": "LLEo1BMTwAet",
    "outputId": "fa65ea70-e389-4e47-db08-da71624b9313"
   },
   "outputs": [
    {
     "data": {
      "image/png": "[encoded data removed]",
      "text/plain": [
       "<Figure size 1080x720 with 2 Axes>"
      ]
     },
     "metadata": {
      "needs_background": "light",
      "tags": []
     },
     "output_type": "display_data"
    }
   ],
   "source": [
    "plt.figure(figsize=(15,10))\n",
    "heatMapNormalized = sns.heatmap(confusionMatrixNormalized,square=True,annot=True,fmt='d',cbar=True,cmap=plt.cm.GnBu)\n",
    "plt.show()"
   ]
  },
  {
   "cell_type": "code",
   "execution_count": 43,
   "metadata": {
    "colab": {
     "base_uri": "https://localhost:8080/"
    },
    "executionInfo": {
     "elapsed": 676,
     "status": "ok",
     "timestamp": 1618433278397,
     "user": {
      "displayName": "Gökay Turan",
      "photoUrl": "",
      "userId": "03034405363589506154"
     },
     "user_tz": -180
    },
    "id": "qD0Pd9W3wAsx",
    "outputId": "4ef4d0f7-3520-4951-c867-5628ce9308fd"
   },
   "outputs": [
    {
     "name": "stdout",
     "output_type": "stream",
     "text": [
      "              precision    recall  f1-score   support\n",
      "\n",
      "           1       0.91      0.93      0.92       705\n",
      "           2       0.84      0.87      0.85       521\n",
      "           3       0.98      0.89      0.94       405\n",
      "           4       0.93      0.96      0.94       386\n",
      "           5       0.92      0.90      0.91       333\n",
      "           6       0.89      0.87      0.88       270\n",
      "           7       1.00      1.00      1.00       103\n",
      "\n",
      "    accuracy                           0.91      2723\n",
      "   macro avg       0.92      0.92      0.92      2723\n",
      "weighted avg       0.91      0.91      0.91      2723\n",
      "\n"
     ]
    }
   ],
   "source": [
    "print(classification_report(classesOfOriginalData_test,predictionNormalized))"
   ]
  },
  {
   "cell_type": "markdown",
   "metadata": {
    "id": "dsFF3UF5GQf9"
   },
   "source": [
    "When we look at the classification results, we can get more accuracy with normalized dataset."
   ]
  },
  {
   "cell_type": "markdown",
   "metadata": {
    "id": "e-4dIZj6pGN4"
   },
   "source": [
    "## References<a class=\"anchor\" id=\"references\"></a>"
   ]
  },
  {
   "cell_type": "markdown",
   "metadata": {
    "id": "DQ5q_7s9nKkL"
   },
   "source": [
    "*   https://developers.google.com/machine-learning/clustering/algorithm/advantages-disadvantages\n",
    "*   https://towardsdatascience.com/feature-selection-techniques-in-machine-learning-with-python-f24e7da3f36e#:~:text=Feature%20Selection%20is%20the%20process,learn%20based%20on%20irrelevant%20features\n",
    "*   https://www.geeksforgeeks.org/elbow-method-for-optimal-value-of-k-in-kmeans/\n",
    "*   https://github.com/aucan/DataScienceTutorials/blob/master/BBM469_Tutorial_7_Machine_Learning.ipynb\n",
    "*   https://medium.com/@sametgirgin/k-means-clustering-model-in-6-steps-with-python-dfe95e5a5fac\n",
    "*   https://www.mygreatlearning.com/blog/knn-algorithm-introduction/\n",
    "*   https://www.kaggle.com/kanncaa1/machine-learning-tutorial-for-beginners"
   ]
  },
  {
   "cell_type": "markdown",
   "metadata": {
    "id": "qe-ObfH2pGOH"
   },
   "source": [
    "\n",
    "**Disclaimer!** <font color='grey'>This notebook was prepared by Gökay Berkem Turan as an assigment for the *BBM469 - Data Intensive Applications Laboratory* class. The notebook is available for educational purposes only. There is no guarantee on the correctness of the content provided as it is a student work.\n",
    "\n",
    "If you think there is any copyright violation, please let us [know](https://forms.gle/BNNRB2kR8ZHVEREq8). \n",
    "</font>"
   ]
  }
 ],
 "metadata": {
  "colab": {
   "collapsed_sections": [],
   "name": "b21627691_GökayBerkem_Turan_hw2.ipynb",
   "provenance": [],
   "toc_visible": true
  },
  "kernelspec": {
   "display_name": "Python 3",
   "language": "python",
   "name": "python3"
  },
  "language_info": {
   "codemirror_mode": {
    "name": "ipython",
    "version": 3
   },
   "file_extension": ".py",
   "mimetype": "text/x-python",
   "name": "python",
   "nbconvert_exporter": "python",
   "pygments_lexer": "ipython3",
   "version": "3.7.3"
  }
 },
 "nbformat": 4,
 "nbformat_minor": 1
}
